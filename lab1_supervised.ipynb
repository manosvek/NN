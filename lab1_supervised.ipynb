{
  "nbformat": 4,
  "nbformat_minor": 0,
  "metadata": {
    "colab": {
      "name": "main.ipynb",
      "provenance": [],
      "collapsed_sections": [
        "JMnPuOrnvUkJ",
        "OS2aoMtLGMDi",
        "sgEY0yJTGsxB",
        "qS1HWTnpHlqm",
        "_RbFNdk3Hkwm",
        "HYDCw0vEID_9",
        "RBbdX82EID9x",
        "ItKmn5dGID6A",
        "UK2JJeREID0s",
        "4eIcQYC3IDuN",
        "KSnBdxtMIDln",
        "gjV6CMl-3oGq",
        "fFmu7cgU4PzS",
        "NfIYZsMo4S4g",
        "eu0BkPkLpIcR",
        "cg8oDd6IpIM5",
        "vIodQPO55kkC",
        "oiypAxfyIHVU",
        "bW0FJs7_JVd5",
        "H9B9la7FQLRp",
        "yOiUcDNCq6_X",
        "KRYPpDguq69R",
        "mpSs2v-Eq6w6",
        "CuuDcTX2rd2z",
        "UkTckkVCt9Uf",
        "LkiY8wLmup8u",
        "xhI0u_5Pu10Y",
        "DR_l6fLRu2SZ",
        "S3A2BKYHu2ku",
        "ZPm3vez2u22P",
        "b7COw5kgu3Gv",
        "chR-vlCmu3Y2",
        "QTzecDi92jE4",
        "Khe67-9hu4Rm",
        "dUvrfiRVu4zR",
        "PAk-pcrHbLhl",
        "UnKlh7lAvl8A",
        "7QPg6NBF6HLX",
        "9yvzCkrI6VAK",
        "MrwnSeI-6bP2",
        "-CT9PtHA6jV1",
        "qFZCtAtU6t1j",
        "iLgFClsA60hX",
        "X-9bzx4GHy4P",
        "W1Rcv-xR60XY",
        "Th4FFbgw7MHg",
        "hzV0DxJ860Me",
        "CSJbXPl46z_d",
        "Tguwl4cU62aE"
      ]
    },
    "kernelspec": {
      "display_name": "Python 3",
      "name": "python3"
    }
  },
  "cells": [
    {
      "cell_type": "markdown",
      "metadata": {
        "id": "JMnPuOrnvUkJ"
      },
      "source": [
        "# 1η Εργαστηριακή Άσκηση: **Επιβλεπόμενη μάθηση**\n",
        "\n",
        "**Ομάδα 08** \\\\\n",
        "Βεκράκης Εμμανουήλ - 03116068 \\\\\n",
        "Κρανιάς Δημήτριος - 03116030 \\\\\n",
        "Μισιακός Παναγιώτης - 03116351 \\\\"
      ]
    },
    {
      "cell_type": "code",
      "metadata": {
        "id": "ZvDI2iEEcger"
      },
      "source": [
        "# All packages that we need\n",
        "!pip install pip --upgrade #upgrade pip package installer\n",
        "!pip install scikit-learn --upgrade #upgrade scikit-learn package\n",
        "!pip install numpy --upgrade #upgrade numpy package\n",
        "!pip install pandas --upgrade #upgrade pandas package\n",
        "!pip install matplotlib --upgrade #upgrade matplotlib package\n",
        "!pip install imbalanced-learn --upgrade #upgrade imbalanced-learn package\n",
        "!pip install prettytable --upgrade #upgrade prettytable package\n",
        "!pip install termcolor --upgrade #upgrade termcolor package"
      ],
      "execution_count": null,
      "outputs": []
    },
    {
      "cell_type": "code",
      "metadata": {
        "id": "DCr1_KPncLCL",
        "colab": {
          "base_uri": "https://localhost:8080/"
        },
        "outputId": "13230c21-4b69-46dd-b84b-26927ab6a850"
      },
      "source": [
        "#All imports\n",
        "import numpy as np \n",
        "import pandas as pd\n",
        "import matplotlib.pyplot as plt\n",
        "\n",
        "import random \n",
        "\n",
        "from imblearn.over_sampling import RandomOverSampler\n",
        "from imblearn.pipeline import Pipeline\n",
        "\n",
        "from sklearn.feature_selection import VarianceThreshold\n",
        "from sklearn.preprocessing import StandardScaler\n",
        "from sklearn.decomposition import PCA\n",
        "from sklearn.model_selection import train_test_split\n",
        "from sklearn.svm import SVC\n",
        "from sklearn.svm import LinearSVC\n",
        "from sklearn.neural_network import MLPClassifier\n",
        "from sklearn.model_selection import train_test_split\n",
        "from sklearn.dummy import DummyClassifier\n",
        "from sklearn.naive_bayes import GaussianNB\n",
        "from sklearn.neighbors import KNeighborsClassifier\n",
        "from sklearn.model_selection import GridSearchCV\n",
        "\n",
        "from sklearn.metrics import accuracy_score\n",
        "from sklearn.metrics import f1_score\n",
        "from sklearn.metrics import classification_report\n",
        "from sklearn.metrics import plot_confusion_matrix\n",
        "from sklearn.metrics import precision_recall_fscore_support\n",
        "\n",
        "import time \n",
        "from prettytable import PrettyTable\n",
        "     "
      ],
      "execution_count": null,
      "outputs": [
        {
          "output_type": "stream",
          "text": [
            "/usr/local/lib/python3.6/dist-packages/sklearn/externals/six.py:31: FutureWarning: The module is deprecated in version 0.21 and will be removed in version 0.23 since we've dropped support for Python 2.7. Please rely on the official version of six (https://pypi.org/project/six/).\n",
            "  \"(https://pypi.org/project/six/).\", FutureWarning)\n",
            "/usr/local/lib/python3.6/dist-packages/sklearn/utils/deprecation.py:144: FutureWarning: The sklearn.neighbors.base module is  deprecated in version 0.22 and will be removed in version 0.24. The corresponding classes / functions should instead be imported from sklearn.neighbors. Anything that cannot be imported from sklearn.neighbors is now part of the private API.\n",
            "  warnings.warn(message, FutureWarning)\n"
          ],
          "name": "stderr"
        }
      ]
    },
    {
      "cell_type": "markdown",
      "metadata": {
        "id": "OS2aoMtLGMDi"
      },
      "source": [
        "# Μικρό Dataset (S07)"
      ]
    },
    {
      "cell_type": "markdown",
      "metadata": {
        "id": "sgEY0yJTGsxB"
      },
      "source": [
        "## Βασικές πληροφορίες\n",
        " \n",
        "\n",
        "\n"
      ]
    },
    {
      "cell_type": "markdown",
      "metadata": {
        "id": "qS1HWTnpHlqm"
      },
      "source": [
        "### 1) Σύντομη παρουσίαση του dataset.\n"
      ]
    },
    {
      "cell_type": "markdown",
      "metadata": {
        "id": "ZW1t01-WJ9oH"
      },
      "source": [
        "Το μικρό dataset που πραγματευόμαστε σε αυτή την εργασία είναι το **Ionosphere Data Set**.\n",
        "Τα δεδομένα προέρχονται από την συλλογή ενός ραντάρ στο Goose Bay, Labrador. Το σύστημα συλλογής δεδομένων αποτελείται από 16 υψίσυχνες κεραίες που στοχεύουν σε ηλεκτρόνια της **ιονόσφαιρας**.\n",
        "\n",
        "![earth](https://archive.ics.uci.edu/ml/assets/MLimages/Large52.jpg)\n",
        "\n",
        "Τα σήματα του ραντάρ που είναι καλά (ετικέτα good) δηλώνουν κάποια δομή στα στρώματα της ιονόσφαιρας, ενώ όσα είναι κακά (bad) δείχνουν το αντίθετο, ότι δεν υπάρχει κάποια δομή. Τα ηλεκτρομαγνητικά σήματα αυτά επεξεργάζονται μέσω $17$ αυτοσυσχετίσεων οπότε προκύπτουν $17$ μιγαδικά χαρακτηριστικά τα οποία συνολικά δίνουν $34$ χαρακτηριστικά ανά σήμα.\n",
        "\n"
      ]
    },
    {
      "cell_type": "markdown",
      "metadata": {
        "id": "_RbFNdk3Hkwm"
      },
      "source": [
        "### 2) Χαρακτηριστικά (features) του dataset.\n"
      ]
    },
    {
      "cell_type": "markdown",
      "metadata": {
        "id": "GTh_rZvaTPVI"
      },
      "source": [
        "Αρχικά κάνουμε load το dataset μας με χρήση της βιβλιοθήκης pandas"
      ]
    },
    {
      "cell_type": "code",
      "metadata": {
        "colab": {
          "base_uri": "https://localhost:8080/"
        },
        "id": "vdenIINOcvCP",
        "outputId": "1f47dd6c-8fbd-4067-d0a5-b87cc550a7c2"
      },
      "source": [
        "#no headers provided in csv columns\n",
        "df = pd.read_csv('http://archive.ics.uci.edu/ml/machine-learning-databases/ionosphere/ionosphere.data', header=None)\n",
        "print(df)"
      ],
      "execution_count": null,
      "outputs": [
        {
          "output_type": "stream",
          "text": [
            "     0   1        2        3        4   ...       30       31       32       33  34\n",
            "0     1   0  0.99539 -0.05889  0.85243  ...  0.42267 -0.54487  0.18641 -0.45300   g\n",
            "1     1   0  1.00000 -0.18829  0.93035  ... -0.16626 -0.06288 -0.13738 -0.02447   b\n",
            "2     1   0  1.00000 -0.03365  1.00000  ...  0.60436 -0.24180  0.56045 -0.38238   g\n",
            "3     1   0  1.00000 -0.45161  1.00000  ...  0.25682  1.00000 -0.32382  1.00000   b\n",
            "4     1   0  1.00000 -0.02401  0.94140  ... -0.05707 -0.59573 -0.04608 -0.65697   g\n",
            "..   ..  ..      ...      ...      ...  ...      ...      ...      ...      ...  ..\n",
            "346   1   0  0.83508  0.08298  0.73739  ...  0.86660 -0.10714  0.90546 -0.04307   g\n",
            "347   1   0  0.95113  0.00419  0.95183  ...  0.94066 -0.00035  0.91483  0.04712   g\n",
            "348   1   0  0.94701 -0.00034  0.93207  ...  0.92459  0.00442  0.92697 -0.00577   g\n",
            "349   1   0  0.90608 -0.01657  0.98122  ...  0.96022 -0.03757  0.87403 -0.16243   g\n",
            "350   1   0  0.84710  0.13533  0.73638  ...  0.75747 -0.06678  0.85764 -0.06151   g\n",
            "\n",
            "[351 rows x 35 columns]\n"
          ],
          "name": "stdout"
        }
      ]
    },
    {
      "cell_type": "markdown",
      "metadata": {
        "id": "fq8FYjx0TKi1"
      },
      "source": [
        "Τόσο από την περιγραφή του dataset όσο και από το shape του array των δεδομένων, βλέπουμε ότι έχουμε $351$ δείγματα σημάτων, κάθε ένα εκ των οποίων έχει $35$ χαρακτηριστικά μεταξύ των οποίων τα $34$ πρώτα είναι πραγματικοί αριθμοί ενώ το τελευταίο είναι το label της τάξης στην οποία ανήκει το δείγμα (good η bad), το οποίο δεν είναι διατεταγμένο χαρακτηριστικό. Συμπεραίνουμε πως το task σε αυτό το dataset είναι **binary classification**.\n",
        "\n",
        "Κατά την φόρτωση των δεδομένων στο dataframe μετατρέπουμε τις τάξεις bad και good σε 0 και 1 αντίστοιχα.\n",
        "\n",
        "Στο παρακάτω κελί κώδικα τυπώνουμε για οπτικοποίηση το πρώτο από τα $351$ δείγματα. Όπως γίνεται φανερό το δείγμα αυτό αποτελεί σήμα της κλάσης \"good\"."
      ]
    },
    {
      "cell_type": "code",
      "metadata": {
        "colab": {
          "base_uri": "https://localhost:8080/"
        },
        "id": "A54EnTqCS_qX",
        "outputId": "ea3c622c-9f9f-4dbd-e11d-9b1d851be6fa"
      },
      "source": [
        "df.head(1)"
      ],
      "execution_count": null,
      "outputs": [
        {
          "output_type": "execute_result",
          "data": {
            "text/html": [
              "<div>\n",
              "<style scoped>\n",
              "    .dataframe tbody tr th:only-of-type {\n",
              "        vertical-align: middle;\n",
              "    }\n",
              "\n",
              "    .dataframe tbody tr th {\n",
              "        vertical-align: top;\n",
              "    }\n",
              "\n",
              "    .dataframe thead th {\n",
              "        text-align: right;\n",
              "    }\n",
              "</style>\n",
              "<table border=\"1\" class=\"dataframe\">\n",
              "  <thead>\n",
              "    <tr style=\"text-align: right;\">\n",
              "      <th></th>\n",
              "      <th>0</th>\n",
              "      <th>1</th>\n",
              "      <th>2</th>\n",
              "      <th>3</th>\n",
              "      <th>4</th>\n",
              "      <th>5</th>\n",
              "      <th>6</th>\n",
              "      <th>7</th>\n",
              "      <th>8</th>\n",
              "      <th>9</th>\n",
              "      <th>10</th>\n",
              "      <th>11</th>\n",
              "      <th>12</th>\n",
              "      <th>13</th>\n",
              "      <th>14</th>\n",
              "      <th>15</th>\n",
              "      <th>16</th>\n",
              "      <th>17</th>\n",
              "      <th>18</th>\n",
              "      <th>19</th>\n",
              "      <th>20</th>\n",
              "      <th>21</th>\n",
              "      <th>22</th>\n",
              "      <th>23</th>\n",
              "      <th>24</th>\n",
              "      <th>25</th>\n",
              "      <th>26</th>\n",
              "      <th>27</th>\n",
              "      <th>28</th>\n",
              "      <th>29</th>\n",
              "      <th>30</th>\n",
              "      <th>31</th>\n",
              "      <th>32</th>\n",
              "      <th>33</th>\n",
              "      <th>34</th>\n",
              "    </tr>\n",
              "  </thead>\n",
              "  <tbody>\n",
              "    <tr>\n",
              "      <th>0</th>\n",
              "      <td>1</td>\n",
              "      <td>0</td>\n",
              "      <td>0.99539</td>\n",
              "      <td>-0.05889</td>\n",
              "      <td>0.85243</td>\n",
              "      <td>0.02306</td>\n",
              "      <td>0.83398</td>\n",
              "      <td>-0.37708</td>\n",
              "      <td>1.0</td>\n",
              "      <td>0.0376</td>\n",
              "      <td>0.85243</td>\n",
              "      <td>-0.17755</td>\n",
              "      <td>0.59755</td>\n",
              "      <td>-0.44945</td>\n",
              "      <td>0.60536</td>\n",
              "      <td>-0.38223</td>\n",
              "      <td>0.84356</td>\n",
              "      <td>-0.38542</td>\n",
              "      <td>0.58212</td>\n",
              "      <td>-0.32192</td>\n",
              "      <td>0.56971</td>\n",
              "      <td>-0.29674</td>\n",
              "      <td>0.36946</td>\n",
              "      <td>-0.47357</td>\n",
              "      <td>0.56811</td>\n",
              "      <td>-0.51171</td>\n",
              "      <td>0.41078</td>\n",
              "      <td>-0.46168</td>\n",
              "      <td>0.21266</td>\n",
              "      <td>-0.3409</td>\n",
              "      <td>0.42267</td>\n",
              "      <td>-0.54487</td>\n",
              "      <td>0.18641</td>\n",
              "      <td>-0.453</td>\n",
              "      <td>g</td>\n",
              "    </tr>\n",
              "  </tbody>\n",
              "</table>\n",
              "</div>"
            ],
            "text/plain": [
              "   0   1        2        3        4   ...       30       31       32     33  34\n",
              "0   1   0  0.99539 -0.05889  0.85243  ...  0.42267 -0.54487  0.18641 -0.453   g\n",
              "\n",
              "[1 rows x 35 columns]"
            ]
          },
          "metadata": {
            "tags": []
          },
          "execution_count": 4
        }
      ]
    },
    {
      "cell_type": "markdown",
      "metadata": {
        "id": "HYDCw0vEID_9"
      },
      "source": [
        "### 3) Επικεφαλίδες και αρίθμηση γραμμών.\n",
        "\n",
        "Με μία σύντομη επισκόπηση στο dataset, διαπιστώνουμε ότι δεν υπάρχουν headers στις στήλες. Άλλωστε όλα τα χαρακτηριστικά αποτελούν το αποτέλεσμα κάποιας αυτοσυσχέτισης και δεν θα είχε νόημα να τα διαφοροποιήσουμε με κάποιο όνομα. Το μόνο διαφορετικό χαρακτηριστικό είναι το τελευταίο το οποίο μας δίνει σε ποια κλάση ανήκει το δείγμα. Επιπλέον, δεν υπάρχει αρίθμηση γραμμών στο στο dataset μας.\n"
      ]
    },
    {
      "cell_type": "markdown",
      "metadata": {
        "id": "RBbdX82EID9x"
      },
      "source": [
        "### 4) Ετικέτες κλάσεων.\n",
        "\n",
        "Οι ετικέτες των κλάσεων είναι 'g' ή 'b' που αναπαριστούν αντίστοιχα αν είναι good or bad το σήμα. Τα labels αυτά βρίσκονται στην στήλη $35$ η αλλιώς `data[:,34]`.\n"
      ]
    },
    {
      "cell_type": "markdown",
      "metadata": {
        "id": "ItKmn5dGID6A"
      },
      "source": [
        "### 5) Μετατροπές αρχείων txt. \n",
        "\n",
        "Για την ανάγνωση των δεδομένων δεν χρειάζεται κάποια επεξεργασία αφού βρίσκονται ήδη σε comma separated value (csv) μορφή. Επομένως, μπορούμε όπως δείξαμε να τα διαβάσουμε απευθείας με την συνάρτηση `read_csv()` της βιβλιοθήκης **pandas**, προσέχοντας όμως να δηλώσουμε ότι δεν υπάρχουν headers (διαφορετικά θα χάναμε το πρώτο δείγμα από τα δεδομένα μας). Μετά την ανάγνωση τους όμως, παρατηρήσαμε ότι οι τιμές των κλάσεων των ετικετών είχαν αλφαριθμητική τιμή (\"g\" και \"b\"), οπότε επιλέξαμε να τις μετατρέψουμε σε 0 και 1 όπως φαίνεται παρακάτω.\n",
        "\n"
      ]
    },
    {
      "cell_type": "code",
      "metadata": {
        "id": "BjclzfH4JBwS"
      },
      "source": [
        "class_mapping = {label:idx for idx,label in enumerate(np.unique(df[34]))}\n",
        "# print(class_mapping)\n",
        "df[34] = df[34].map(class_mapping)\n",
        "# print(df[34])"
      ],
      "execution_count": null,
      "outputs": []
    },
    {
      "cell_type": "markdown",
      "metadata": {
        "id": "UK2JJeREID0s"
      },
      "source": [
        "### 6) Απουσιάζουσες τιμές.\n",
        "\n",
        "Σύμφωνα με την επισκόπηση του dataset sto UCI ML repo δεν υπάρχουν απουσιάζουσες τιμές. Αυτό πράγματι μπορούμε να το διαπιστώσουμε εκτελώντας και το ακόλουθο κελί κώδικα.\n"
      ]
    },
    {
      "cell_type": "code",
      "metadata": {
        "colab": {
          "base_uri": "https://localhost:8080/"
        },
        "id": "gNLGuBtGa0bH",
        "outputId": "4a6edf5d-134b-4282-b1be-31d341229c0d"
      },
      "source": [
        "df.isnull().values.ravel().sum()"
      ],
      "execution_count": null,
      "outputs": [
        {
          "output_type": "execute_result",
          "data": {
            "text/plain": [
              "0"
            ]
          },
          "metadata": {
            "tags": []
          },
          "execution_count": 6
        }
      ]
    },
    {
      "cell_type": "markdown",
      "metadata": {
        "id": "4eIcQYC3IDuN"
      },
      "source": [
        "### 7) Εκτίμηση ισορροπίας dataset.\n",
        "\n",
        "Όπως διαπιστώνουμε παρακάτω το dataset δεν έχει πλήθος δειγμάτων στο εύρος όπου θα χαρακτηριζόταν ισορροπημένο. Πράγματι τα 'good' samples είναι αρκετά περισσότερα από τα 'bad'.\n",
        "\n",
        "\n"
      ]
    },
    {
      "cell_type": "code",
      "metadata": {
        "colab": {
          "base_uri": "https://localhost:8080/"
        },
        "id": "4lph1Gw6wO1g",
        "outputId": "c5ce4dac-68a4-484c-deb8-69d8dbd10585"
      },
      "source": [
        "data_labels = df[34]\n",
        "print('Percentage of bad samples: {}%'.format(100 * np.where(data_labels == 0, 1, 0).sum() / len(data_labels)))\n",
        "print('Percentage of good samples: {}%'.format(100 * np.where(data_labels == 1, 1, 0).sum() / len(data_labels)))"
      ],
      "execution_count": null,
      "outputs": [
        {
          "output_type": "stream",
          "text": [
            "Percentage of bad samples: 35.8974358974359%\n",
            "Percentage of good samples: 64.1025641025641%\n"
          ],
          "name": "stdout"
        }
      ]
    },
    {
      "cell_type": "markdown",
      "metadata": {
        "id": "KSnBdxtMIDln"
      },
      "source": [
        "### 8) Διαχωρισμός σε train και test set. \n",
        "\n",
        "Με τις παρακάτω εντολές κάνουμε τον ζητούμενο διαχωρισμό σε train και dataset με το test dataset να έχει μέγεθος το $20$% του συνολικού set δεδομένων. Αξίζει να σημειώσουμε ότι για το input της συνάρτησης `train_test_split()` χρειάζεται να χωρίσουμε το σύνολο μας σε features και σε labels. Δεν υπάρχουν απουσιάζουσες τιμές και όσον αφορά τις μη διατεταγμένες υπάρχουν μόνο οι 'g' και 'b' που δηλώνουν την κλάση. Σε αυτές δεν χρειάζεται να εφαρμόσουμε κάποια τροποποίηση αφού οι ταξινομητές μας θα τις ξεχωρίζουν ως δύο διακριτές τιμές.  "
      ]
    },
    {
      "cell_type": "code",
      "metadata": {
        "id": "a-PNZfHId3CR"
      },
      "source": [
        "#extracting features\n",
        "features = df.drop(labels=34, axis=1)\n",
        "labels = df[34]\n",
        "\n",
        "#splitting into train and test sets\n",
        "train, test, train_labels, test_labels = train_test_split(features, labels, test_size=0.2)"
      ],
      "execution_count": null,
      "outputs": []
    },
    {
      "cell_type": "markdown",
      "metadata": {
        "id": "gjV6CMl-3oGq"
      },
      "source": [
        "## Ταξινόμηση"
      ]
    },
    {
      "cell_type": "markdown",
      "metadata": {
        "id": "fFmu7cgU4PzS"
      },
      "source": [
        "### Baseline Classification "
      ]
    },
    {
      "cell_type": "markdown",
      "metadata": {
        "id": "NfIYZsMo4S4g"
      },
      "source": [
        "#### 1) Εκπαίδευση των Classifiers\n",
        "\n",
        "\n",
        "Αρχικά πειραματιζόμαστε με την δημιουργία των default classifiers ανά περίπτωση. Για κάθε classifier κάνουμε plot και το confusion matrix που αντιστοιχεί στο test set. Επίσης, σχηματίζουμε έναν πίνακα που περιέχει όλες τις average μετρικές αξιολόγησης των ταξινομητών. \n"
      ]
    },
    {
      "cell_type": "code",
      "metadata": {
        "colab": {
          "base_uri": "https://localhost:8080/"
        },
        "id": "C226ImJxooYL",
        "outputId": "87947461-0366-4684-a0d3-f20e80f9c046"
      },
      "source": [
        "#Default Initialization\n",
        "dc_stratified = DummyClassifier(strategy=\"stratified\")\n",
        "dc_most_frequent = DummyClassifier(strategy=\"most_frequent\")\n",
        "dc_prior = DummyClassifier(strategy=\"prior\")\n",
        "dc_uniform = DummyClassifier(strategy=\"uniform\")\n",
        "dc_constant_0 = DummyClassifier(strategy=\"constant\", constant=0)\n",
        "dc_constant_1 = DummyClassifier(strategy=\"constant\", constant=1)\n",
        "gnb = GaussianNB()\n",
        "knn = KNeighborsClassifier()\n",
        "\n",
        "classifiers = [dc_stratified, dc_most_frequent, dc_prior, dc_uniform, dc_constant_0, dc_constant_1, gnb, knn]\n",
        "classifiers_names = [\"DC_Stratified\", \"DC_Most_Frequent\", \"DC_Prior\", \"DC_Uniform\", \"DC_Constant_0\", \"DC_Constant_1\", \"GaussianNB\", \"KNeighborsClassifier\"]\n",
        "\n",
        "#Training \n",
        "fit_times = []\n",
        "#fitting and computing CPU time\n",
        "for clf in classifiers:\n",
        "  start = time.process_time()\n",
        "  clf.fit(train, train_labels)\n",
        "  fit_times.append('{:.2f}'.format(1000 * (time.process_time() - start)))\n",
        "\n",
        "\n",
        "def plot_conf(classifiers, names, test, test_labels):\n",
        "  '''\n",
        "  function that plots confusion matrix for a list of trained classifiers\n",
        "  '''\n",
        "  fig, axes = plt.subplots(nrows=int(np.ceil(len(classifiers) / 4)), ncols = 4, figsize=(2 * len(classifiers), 6))\n",
        "\n",
        "  for clf, clf_names, ax in zip(classifiers, names, axes.flatten()):\n",
        "      plot_confusion_matrix(clf, test, test_labels, ax=ax, cmap='Blues') \n",
        "      ax.title.set_text(clf_names)\n",
        "\n",
        "  #deleting empty plots if they exist\n",
        "  if len(classifiers) % 4 != 0 :\n",
        "    for i in range(len(classifiers) % 4, 4):\n",
        "      fig.delaxes(axes[int(np.ceil(len(classifiers) / 4)) - 1][i])\n",
        "\n",
        "  plt.tight_layout()  \n",
        "  plt.show()\n",
        "\n",
        "def compute_f1_scores(classifiers, classifiers_names, test, test_labels):\n",
        "  '''\n",
        "  Computing f1 scores and time for predictions for a list of trained classifiers \n",
        "  Print table presenting results\n",
        "  '''\n",
        "  #computing f1 scores \n",
        "  f1_micro_average = []\n",
        "  f1_macro_average = []\n",
        "  pred_times = []\n",
        "  t = PrettyTable(['Classifier\\'s Name','F1_micro','F1_macro'])\n",
        "\n",
        "  for clf, name in zip(classifiers, classifiers_names):\n",
        "      start = time.process_time()\n",
        "      pred = clf.predict(test)\n",
        "      pred_times.append('{:.2f}'.format(1000 * (time.process_time() - start)))\n",
        "      micro = f1_score(test_labels, pred, average='micro')\n",
        "      macro = f1_score(test_labels, pred, average='macro')\n",
        "      f1_micro_average.append(float(\"{:.3f}\".format(micro)))\n",
        "      f1_macro_average.append(float(\"{:.3f}\".format(macro)))\n",
        "      t.add_row([name, '{:.3f}'.format(micro), '{:.3f}'.format(macro)])\n",
        "\n",
        "  print(t)\n",
        "  return f1_micro_average, f1_macro_average, pred_times\n",
        "\n",
        "#confusion matrix, f1_micro and f1_macro average\n",
        "plot_conf(classifiers, classifiers_names, test, test_labels)\n",
        "f1_micro_average, f1_macro_average, pred_times = compute_f1_scores(classifiers, classifiers_names, test, test_labels) "
      ],
      "execution_count": null,
      "outputs": [
        {
          "output_type": "display_data",
          "data": {
            "image/png": "[encoded data removed]",
            "text/plain": [
              "<Figure size 1152x432 with 16 Axes>"
            ]
          },
          "metadata": {
            "tags": [],
            "needs_background": "light"
          }
        },
        {
          "output_type": "stream",
          "text": [
            "+----------------------+----------+----------+\n",
            "|  Classifier's Name   | F1_micro | F1_macro |\n",
            "+----------------------+----------+----------+\n",
            "|    DC_Stratified     |  0.563   |  0.551   |\n",
            "|   DC_Most_Frequent   |  0.535   |  0.349   |\n",
            "|       DC_Prior       |  0.535   |  0.349   |\n",
            "|      DC_Uniform      |  0.451   |  0.451   |\n",
            "|    DC_Constant_0     |  0.465   |  0.317   |\n",
            "|    DC_Constant_1     |  0.535   |  0.349   |\n",
            "|      GaussianNB      |  0.915   |  0.915   |\n",
            "| KNeighborsClassifier |  0.817   |  0.804   |\n",
            "+----------------------+----------+----------+\n"
          ],
          "name": "stdout"
        }
      ]
    },
    {
      "cell_type": "markdown",
      "metadata": {
        "id": "QlzY5yI4CUq_"
      },
      "source": [
        "Σημειώνουμε ότι στις παραπάνω μετρικές δεν εμφανίζουμε το precision και το recall αφού αυτά είναι ίσα με το F1 micro average. Πράγματι, \n",
        "$$\\text{precision}_{\\text{total}} = \\frac{TP_{\\text{total}}}{TP_{\\text{total}} + FP_{\\text{total}}} = \\frac{TP_{\\text{total}}}{TP_{\\text{total}} + FN_{\\text{total}}} = \\text{recall}_\\text{total}$$\n",
        "Αφού τα συνολικά false positives είναι το *άθροισμα των entries στο confusion matrix που είναι εκτός της κύριας διαγωνίου*. Αντίστοιχα, τα συνολικά false positives αντιστοιχούν στην ίδια ποσότητα.\n",
        "\n",
        "Επομένως, το micro averaged $F1$-score, υπολογισμένο ως αρμονικός μέσος όρος του συνολικού precision και συνολικού recall, δεδομένου ότι είναι ίσα, θα είναι ίσο με καθένα από αυτά. Από δω και στο εξής δεν θα αναφερόμαστε σε precision ή recall, παρά μόνο σε micro averaged ή macro averaged $F1$.\n"
      ]
    },
    {
      "cell_type": "markdown",
      "metadata": {
        "id": "eu0BkPkLpIcR"
      },
      "source": [
        "#### 2) Διαγράμματα σύγκρισης απόδοσης\n",
        "Σχεδιάζουμε τα bar plots ώστε να συγκρίνουμε τα f1 score των ταξινομητών."
      ]
    },
    {
      "cell_type": "code",
      "metadata": {
        "colab": {
          "base_uri": "https://localhost:8080/"
        },
        "id": "RVZQZR-sqIM1",
        "outputId": "ae9e4ff3-b35a-4b0b-b59e-c9203a455a4f"
      },
      "source": [
        "#code taken from https://matplotlib.org/3.1.1/gallery/lines_bars_and_markers/barchart.html#sphx-glr-gallery-lines-bars-and-markers-barchart-py\n",
        "def comparing_bar_plot(classifiers, names, score1, label1, score2, label2):\n",
        "\n",
        "  x = np.arange(len(classifiers))  # the label locations\n",
        "  width = 0.35  # the width of the bars\n",
        "\n",
        "  fig, ax = plt.subplots(figsize=(20,10))\n",
        "  rects1 = ax.bar(x - width/2, score1, width, label=label1)\n",
        "  rects2 = ax.bar(x + width/2, score2, width, label=label2)\n",
        "\n",
        "  # Add some text for labels, title and custom x-axis tick labels, etc.\n",
        "  ax.set_ylabel('F1 Scores')\n",
        "  ax.set_title('F1 micro averaged and macro averaged scores')\n",
        "  ax.set_xticks(x)\n",
        "  ax.set_xticklabels(names)\n",
        "  ax.legend()\n",
        "\n",
        "  def autolabel(rects):\n",
        "    \"\"\"Attach a text label above each bar in *rects*, displaying its height.\"\"\"\n",
        "    for rect in rects:\n",
        "        height = rect.get_height()\n",
        "        ax.annotate('{}'.format(height),\n",
        "                    xy=(rect.get_x() + rect.get_width() / 2, height),\n",
        "                    xytext=(0, 3),  # 3 points vertical offset\n",
        "                    textcoords=\"offset points\",\n",
        "                    ha='center', va='bottom')\n",
        "        \n",
        "  autolabel(rects1)\n",
        "  autolabel(rects2)\n",
        "  plt.show()\n",
        "\n",
        "#plotting f1 scores in bar plots for each classifier\n",
        "comparing_bar_plot(classifiers, classifiers_names, f1_micro_average, 'F1_micro', f1_macro_average, 'F1_macro')"
      ],
      "execution_count": null,
      "outputs": [
        {
          "output_type": "display_data",
          "data": {
            "image/png": "[encoded data removed]",
            "text/plain": [
              "<Figure size 1440x720 with 1 Axes>"
            ]
          },
          "metadata": {
            "tags": [],
            "needs_background": "light"
          }
        }
      ]
    },
    {
      "cell_type": "markdown",
      "metadata": {
        "id": "cg8oDd6IpIM5"
      },
      "source": [
        "#### 3) Σχόλια αποτελεσμάτων\n",
        "Όπως αναφέραμε, οι μετρικές precision και recall είναι ίσες με την micro averaged $F1$ και δείχνουν το ποσοστό των σωστών ταξινομήσεων προς το συνολικό πλήθος δειγμάτων. Αντίστοιχα, η macro averaged $F1$ αποτελεί έναν δείκτη επιτυχίας του ταξινομητή, αφού υπολογίζεται ως τον αρμονικό μέσο του μέσου precision και μέσου recall. \n",
        "\n",
        "Μεταξύ των ταξινομητών παρατηρούμε ότι την καλύτερη απόδοση στο test set έχει ο Gaussian Naive Bayes και την αμέσως επόμενη έχει ο kNN. Οι dummy classifiers δεν έχουν καλή συμπεριφορά διότι δεν λαμβάνουν υπόψιν τα χαρακτηριστικά των δειγμάτων που τους δίνονται. Το γεγονός αυτό είναι φανερό, τόσο στα confusion matrices όσο και στο συγκριτικό bar plot που παραθέτουμε παραπάνω. Αρκετά, δείγματα στους dummy classifiers δεν ταξινομούνται σωστά στις κλάσεις τους όπως γίνεται φανερό από τον πίνακα σύγχυσης αλλά και από τα $F1$ scores. \n",
        "\n",
        "Για παράδειγμα, αν δούμε τον dummy constant $0$, τότε αυτός αποτυγχάνει στην ταξινόμηση των $1$, οπότε το ποσοστό επιτυχίας του είναι το ποσοστό των $0$. Αντίστοιχη, παρατήρηση μπορούμε να κάνουμε και για τον dummy constant $1$ classifier.\n",
        "\n"
      ]
    },
    {
      "cell_type": "markdown",
      "metadata": {
        "id": "vIodQPO55kkC"
      },
      "source": [
        "### Βελτιστοποίηση Ταξινομητών\n",
        "\n",
        "Στο στάδιο αυτό θα επιχειρήσουμε να βελτιστοποιήσουμε την διαδικασία ταξινόμησης. Για να το επιτύχουμε αυτό θα βελτιώσουμε το σύνολο εκπαίδευσης το οποίο είναι imbalanced και έπειτα θα κάνουμε hyperparameter tuning στους ταξινομητές. Το tuning μας θα περιοριστεί στην παράμετρο `n_neighbors`\n",
        "του kNN."
      ]
    },
    {
      "cell_type": "markdown",
      "metadata": {
        "id": "oiypAxfyIHVU"
      },
      "source": [
        "#### 0) Data Preprocessing"
      ]
    },
    {
      "cell_type": "markdown",
      "metadata": {
        "id": "aa539GU0IXtD"
      },
      "source": [
        "Εφ' όσον δεν έχουμε απουσιάζουσες τιμές, αλλά ούτε και κατηγορηματικά\n",
        "χαρακτηριστικά στο dataset μας, το μόνο που θα χρειαστεί να κάνουμε στο στάδιο preprocessing είναι εξισορρόπηση του dataset με oversampling."
      ]
    },
    {
      "cell_type": "markdown",
      "metadata": {
        "id": "bW0FJs7_JVd5"
      },
      "source": [
        "##### Oversampling"
      ]
    },
    {
      "cell_type": "code",
      "metadata": {
        "colab": {
          "base_uri": "https://localhost:8080/"
        },
        "id": "S_KIokkYJfoK",
        "outputId": "cdcce5f1-8d7d-4d8e-c059-8baad9922287"
      },
      "source": [
        "print('Percentage of bad samples: {}%'.format(100 * np.where(train_labels == 0, 1, 0).sum() / len(train_labels)))\n",
        "print('Percentage of good samples: {}%'.format(100 * np.where(train_labels == 1, 1, 0).sum() / len(train_labels)))"
      ],
      "execution_count": null,
      "outputs": [
        {
          "output_type": "stream",
          "text": [
            "Percentage of bad samples: 33.214285714285715%\n",
            "Percentage of good samples: 66.78571428571429%\n"
          ],
          "name": "stdout"
        }
      ]
    },
    {
      "cell_type": "markdown",
      "metadata": {
        "id": "oVF9WVhEJmNq"
      },
      "source": [
        "Παρατηρούμε ότι και στο train set το ποσοστό των good samples είναι πάνω από 1.5 φορά μεγαλύτερο από το ποσοστό των bad samples."
      ]
    },
    {
      "cell_type": "code",
      "metadata": {
        "colab": {
          "base_uri": "https://localhost:8080/"
        },
        "id": "orOnvmEmJlnh",
        "outputId": "da2f6aa2-f586-47bf-8f2c-cd4914847b09"
      },
      "source": [
        "ros = RandomOverSampler()\n",
        "\n",
        "train, train_labels = ros.fit_resample(train, train_labels)\n",
        "\n",
        "print('Percentage of bad samples: {}%'.format(100 * np.where(train_labels == 0, 1, 0).sum() / len(train_labels)))\n",
        "print('Percentage of good samples: {}%'.format(100 * np.where(train_labels == 1, 1, 0).sum() / len(train_labels)))"
      ],
      "execution_count": null,
      "outputs": [
        {
          "output_type": "stream",
          "text": [
            "Percentage of bad samples: 50.0%\n",
            "Percentage of good samples: 50.0%\n"
          ],
          "name": "stdout"
        },
        {
          "output_type": "stream",
          "text": [
            "/usr/local/lib/python3.6/dist-packages/sklearn/utils/deprecation.py:87: FutureWarning: Function safe_indexing is deprecated; safe_indexing is deprecated in version 0.22 and will be removed in version 0.24.\n",
            "  warnings.warn(msg, category=FutureWarning)\n"
          ],
          "name": "stderr"
        }
      ]
    },
    {
      "cell_type": "markdown",
      "metadata": {
        "id": "6eW44fnzJyvu"
      },
      "source": [
        "Παραπάνω παρατηρούμε ότι εξισορροπήθηκε το training set. Βέβαια επειδή δεν ορίστηκε random_state στην RandomOverSampler() καθ' υπόδειξη του FAQ, τα samples που επιλέγονται για το oversampling θα αλλάζουν σε κάθε τρέξιμο αυτού του κελιού και αυτό ενδέχεται να επηρεάζει το score των ταξινομητών."
      ]
    },
    {
      "cell_type": "markdown",
      "metadata": {
        "id": "H9B9la7FQLRp"
      },
      "source": [
        "#### 1) Hyperparameter Tuning"
      ]
    },
    {
      "cell_type": "markdown",
      "metadata": {
        "id": "oaq6DppxbVQr"
      },
      "source": [
        "Παρακάτω βελτιστοποιούμε τον ταξινομητή kNN αναφορικά με το $F1$ score τόσο για την περίπτωση micro averaged όσο και για την περίπτωση του macro averaged."
      ]
    },
    {
      "cell_type": "code",
      "metadata": {
        "colab": {
          "base_uri": "https://localhost:8080/"
        },
        "id": "DuTHGt5p7kPS",
        "outputId": "3d6429e2-70aa-4b28-8774-96a6a8571d68"
      },
      "source": [
        "#taking all odd numbers as neighbors\n",
        "neighbors = list(range(1, 50, 2))\n",
        "\n",
        "#defining grid search parameters\n",
        "grid_params = {'n_neighbors': neighbors}\n",
        "\n",
        "#initializing kNN\n",
        "knn = KNeighborsClassifier()\n",
        "\n",
        "#initializing gridsearch\n",
        "estimator1 = GridSearchCV(knn, grid_params, cv=10, scoring='f1_micro')\n",
        "estimator2 = GridSearchCV(knn, grid_params, cv=10, scoring='f1_macro')\n",
        "\n",
        "#searching parameters for optimality on train set\n",
        "estimator1.fit(train, train_labels)\n",
        "estimator2.fit(train, train_labels)\n",
        "\n",
        "print('n_neighbors for optimal f1_micro is {}'.format(estimator1.best_params_['n_neighbors']))\n",
        "print('n_neighbors for optimal f1_macro is {}'.format(estimator2.best_params_['n_neighbors']))"
      ],
      "execution_count": null,
      "outputs": [
        {
          "output_type": "stream",
          "text": [
            "n_neighbors for optimal f1_micro is 1\n",
            "n_neighbors for optimal f1_macro is 1\n"
          ],
          "name": "stdout"
        }
      ]
    },
    {
      "cell_type": "markdown",
      "metadata": {
        "id": "ThheiYYZpEVn"
      },
      "source": [
        "Παρατηρούμε ότι η βέλτιστη τιμή των γειτόνων είναι και για τις δύο περιπτώσεις ίση με $1$, επομένως, μπορούμε να ορίσουμε έναν βέλτιστο kNN για ```n_neighbors = 1```. Επίσης, για όλους τους ταξινομητές παραθέτουμε τα f1_micro και f1_macro averaged scores. Υπενθυμίζουμε, ότι ο μόνος ταξινομητής που επιδέχεται βελτιστοποίηση υπερπαραμέτρων είναι ο kNN. Όλοι οι υπόλοιποι ταξινομητές θα επηρεαστούν μόνο από την προεπεξεργασία των δεδομένων.\n",
        "\n",
        "Παρακάτω παραθέτουμε τους πίνακες σύγχυσης των ταξινομητών μαζί με τα $F1$ scores αυτών. "
      ]
    },
    {
      "cell_type": "code",
      "metadata": {
        "colab": {
          "base_uri": "https://localhost:8080/"
        },
        "id": "yrtQaAG0lQau",
        "outputId": "6b16a021-367a-4a52-e77d-f085f1f32820"
      },
      "source": [
        "#Initializing \"optimal\" classifiers\n",
        "dc_stratified = DummyClassifier(strategy=\"stratified\")\n",
        "dc_most_frequent = DummyClassifier(strategy=\"most_frequent\")\n",
        "dc_prior = DummyClassifier(strategy=\"prior\")\n",
        "dc_uniform = DummyClassifier(strategy=\"uniform\")\n",
        "dc_constant_0 = DummyClassifier(strategy=\"constant\", constant=0)\n",
        "dc_constant_1 = DummyClassifier(strategy=\"constant\", constant=1)\n",
        "gnb = GaussianNB()\n",
        "knn_opt = KNeighborsClassifier(n_neighbors=1)\n",
        "\n",
        "#Set of optimal classifiers\n",
        "classifiers_opt = [dc_stratified, dc_most_frequent, dc_prior, dc_uniform, dc_constant_0, dc_constant_1, gnb, knn_opt]\n",
        "classifiers_opt_names = [\"DC_Stratified\", \"DC_Most_Frequent\", \"DC_Prior\", \"DC_Uniform\", \"DC_Constant_0\", \"DC_Constant_1\", \"GaussianNB\", \"Opt_KNN\"]\n",
        "\n",
        "fit_times_opt = []\n",
        "#fitting and computing CPU time\n",
        "for clf in classifiers_opt:\n",
        "  start = time.process_time()\n",
        "  clf.fit(train, train_labels)\n",
        "  fit_times_opt.append('{:.2f}'.format(1000 * (time.process_time() - start)))\n",
        "\n",
        "#plotting confusion matrix\n",
        "plot_conf(classifiers_opt, classifiers_opt_names, test, test_labels)\n",
        "\n",
        "#calculating and printing f1 scores\n",
        "f1_micro_average_opt, f1_macro_average_opt, pred_times_opt = compute_f1_scores(classifiers_opt, classifiers_opt_names, test, test_labels)"
      ],
      "execution_count": null,
      "outputs": [
        {
          "output_type": "display_data",
          "data": {
            "image/png": "[encoded data removed]",
            "text/plain": [
              "<Figure size 1152x432 with 16 Axes>"
            ]
          },
          "metadata": {
            "tags": [],
            "needs_background": "light"
          }
        },
        {
          "output_type": "stream",
          "text": [
            "+-------------------+----------+----------+\n",
            "| Classifier's Name | F1_micro | F1_macro |\n",
            "+-------------------+----------+----------+\n",
            "|   DC_Stratified   |  0.451   |  0.444   |\n",
            "|  DC_Most_Frequent |  0.465   |  0.317   |\n",
            "|      DC_Prior     |  0.465   |  0.317   |\n",
            "|     DC_Uniform    |  0.535   |  0.534   |\n",
            "|   DC_Constant_0   |  0.465   |  0.317   |\n",
            "|   DC_Constant_1   |  0.535   |  0.349   |\n",
            "|     GaussianNB    |  0.915   |  0.915   |\n",
            "|      Opt_KNN      |  0.859   |  0.854   |\n",
            "+-------------------+----------+----------+\n"
          ],
          "name": "stdout"
        }
      ]
    },
    {
      "cell_type": "markdown",
      "metadata": {
        "id": "yOiUcDNCq6_X"
      },
      "source": [
        "#### 2) Χρόνοι Εκτέλεσης\n",
        "\n",
        "Μετρώντας τον χρόνο από την στιγμή που ξεκινάει η διαδικασία του fitting, μέχρι την στιγμή που αυτό τελειώνει, υπολογίζουμε τον συνολικό χρόνο που διαρκεί. Αντίστοιχα εργαζόμαστε και για το prediction. Τους χρόνους αυτούς έχουμε ήδη υπολογισμένους και παρακάτω παρουσιάζουμε έναν πίνακα για καθέναν από αυτούς και για κάθε ταξινομητή. "
      ]
    },
    {
      "cell_type": "code",
      "metadata": {
        "colab": {
          "base_uri": "https://localhost:8080/"
        },
        "id": "ibAZpGy4xvuh",
        "outputId": "46729286-a70d-461d-bc6e-05b81512eb27"
      },
      "source": [
        "def print_times(names, fit_times, pred_times):\n",
        "  '''\n",
        "  Prints table of fitting times and prediction times for a list of names of classifiers\n",
        "  Input: names, fitting times and prediction times for each classifier (CPU times)\n",
        "  '''\n",
        "  times = PrettyTable(['Classifier\\'s Name','Fit Time (msec)','Prediction Time (msec)'])\n",
        "\n",
        "  for i, name in zip(range(len(fit_times)), names):\n",
        "    times.add_row([name, fit_times[i], pred_times[i]])\n",
        "\n",
        "  print(times)\n",
        "  \n",
        "#printing table with CPU times\n",
        "print_times(classifiers_opt_names, fit_times_opt, pred_times_opt)"
      ],
      "execution_count": null,
      "outputs": [
        {
          "output_type": "stream",
          "text": [
            "+-------------------+-----------------+------------------------+\n",
            "| Classifier's Name | Fit Time (msec) | Prediction Time (msec) |\n",
            "+-------------------+-----------------+------------------------+\n",
            "|   DC_Stratified   |       0.56      |          0.36          |\n",
            "|  DC_Most_Frequent |       0.29      |          0.14          |\n",
            "|      DC_Prior     |       0.27      |          0.13          |\n",
            "|     DC_Uniform    |       0.37      |          0.15          |\n",
            "|   DC_Constant_0   |       0.40      |          0.10          |\n",
            "|   DC_Constant_1   |       0.87      |          0.10          |\n",
            "|     GaussianNB    |       1.28      |          1.54          |\n",
            "|      Opt_KNN      |       1.64      |          5.46          |\n",
            "+-------------------+-----------------+------------------------+\n"
          ],
          "name": "stdout"
        }
      ]
    },
    {
      "cell_type": "markdown",
      "metadata": {
        "id": "KRYPpDguq69R"
      },
      "source": [
        "#### 3) Σύγκριση των averaged metrics\n",
        "\n",
        "Έπειτα, τυπώνουμε ένα bar plot συγκριτικά για όλους τους ταξινομητές που περιέχει τις δύο $F1$ μετρικές για κάθε ταξινομητή. \n"
      ]
    },
    {
      "cell_type": "code",
      "metadata": {
        "colab": {
          "base_uri": "https://localhost:8080/"
        },
        "id": "8uBQ5Hb36rD0",
        "outputId": "bffe851c-8179-4693-f6e9-3c708784e125"
      },
      "source": [
        "comparing_bar_plot(classifiers_opt, classifiers_opt_names, f1_micro_average_opt, 'F1_micro', f1_macro_average_opt, 'F1_macro')"
      ],
      "execution_count": null,
      "outputs": [
        {
          "output_type": "display_data",
          "data": {
            "image/png": "[encoded data removed]",
            "text/plain": [
              "<Figure size 1440x720 with 1 Axes>"
            ]
          },
          "metadata": {
            "tags": [],
            "needs_background": "light"
          }
        }
      ]
    },
    {
      "cell_type": "markdown",
      "metadata": {
        "id": "mpSs2v-Eq6w6"
      },
      "source": [
        "#### 4) Πίνακας Μεταβολής Επίδοσης\n",
        "\n",
        "Τέλος, παρουσιάζουμε έναν πίνακα που θα οπτικοποιήσει την σύγκριση μεταξύ των default ταξινομητών και optimal ταξινομητών ως προς την επίδοσή τους στο test set. Συγκεκριμένα παρουσιάζονται οι $F1$ μετρικές καθώς και οι χρόνοι εκπαίδευσης και πρόβλεψης. Με κόκκινο δηλώνονται τα μεγέθη που παρουσιάζουν χειροτέρευση, με μπλε αυτά που διατηρήθηκαν ίδια και με πράσινο αυτά που βελτιώθηκαν."
      ]
    },
    {
      "cell_type": "code",
      "metadata": {
        "colab": {
          "base_uri": "https://localhost:8080/"
        },
        "id": "p6-h8nMb9CEB",
        "outputId": "4d6b9fb9-1533-4ce1-aefe-556f7a2a4f59"
      },
      "source": [
        "from termcolor import colored\n",
        "\n",
        "def color(a, b, type='accuracy'):\n",
        "  '''\n",
        "  Helping function to print variation on accuracy metric with colour \n",
        "  red stands for worseness, green for betterness, and blue when it stays the same.\n",
        "  '''\n",
        "  if float(a) == float(b):\n",
        "      return colored(b, 'blue')\n",
        "  elif type == 'accuracy':\n",
        "    if float(a) > float(b):\n",
        "      return colored(b, 'red')\n",
        "    else:\n",
        "      return colored(b, 'green')\n",
        "\n",
        "  elif type == 'time':\n",
        "    if float(a) > float(b):\n",
        "      return colored(b, 'green')\n",
        "    else:\n",
        "      return colored(b, 'red')\n",
        "\n",
        "def print_comparative_evaluation(classifiers, names, classifiers_opt, opt_names, test_set, test_labels):\n",
        "  '''\n",
        "  Given a list of trained classifiers and optimal classifiers it evaluates the classifier on the test set and\n",
        "  prints a table that compares the metric of the original classifier with the optimal one. \n",
        "  '''\n",
        "  t = PrettyTable(['Classifier\\'s Name','F1_micro','F1_micro_opt','F1_macro', 'F1_macro_opt'])\n",
        "  for clf, name, clf_opt, name_opt in zip(classifiers, names, classifiers_opt, opt_names):\n",
        "    pred = clf.predict(test_set)\n",
        "    pred_opt = clf_opt.predict(test_set)\n",
        "    macro = precision_recall_fscore_support(test_labels, pred, average='macro', zero_division=0)[2]\n",
        "    micro = precision_recall_fscore_support(test_labels, pred, average='micro', zero_division=0)[2]\n",
        "    macro_opt = precision_recall_fscore_support(test_labels, pred_opt, average='macro', zero_division=0)[2]\n",
        "    micro_opt = precision_recall_fscore_support(test_labels, pred_opt, average='micro', zero_division=0)[2]\n",
        "    t.add_row([name, '{:.3f}'.format(micro), color('{:.3f}'.format(micro), '{:.3f}'.format(micro_opt)), \\\n",
        "                     '{:.3f}'.format(macro), color('{:.3f}'.format(macro), '{:.3f}'.format(macro_opt)) ])\n",
        "  print(t)\n",
        "\n",
        "def print_comparative_times(names, fit_times, pred_times, fit_times_opt, pred_times_opt):\n",
        "  '''\n",
        "  Given a list of names of classifiers together with fit and prediction times (both for vanilla and optimal case)\n",
        "  it prints a table with both times for vanilla and optimal classifiers\n",
        "  '''\n",
        "  t = PrettyTable(['Classifier\\'s Name', 'Fit Time (msec)', 'Fit time of optimal Classifier (msec)', 'Pred Time (msec)', 'Pred Time of Optimal Classifier (msec)'])\n",
        "  for i, name in zip(range(len(fit_times)), names):\n",
        "    t.add_row([name, fit_times[i], color(fit_times[i], fit_times_opt[i], 'time'), pred_times[i], color(pred_times[i], pred_times_opt[i], 'time')])\n",
        "  print(t)\n",
        "\n",
        "#printing comparative table for f1 scores\n",
        "print_comparative_evaluation(classifiers, classifiers_names, classifiers_opt, classifiers_opt_names, test, test_labels)\n",
        "\n",
        "#printing comparative table for fitting and prediction times\n",
        "print_comparative_times(classifiers_names, fit_times, pred_times, fit_times_opt, pred_times_opt)"
      ],
      "execution_count": null,
      "outputs": [
        {
          "output_type": "stream",
          "text": [
            "+----------------------+----------+--------------+----------+--------------+\n",
            "|  Classifier's Name   | F1_micro | F1_micro_opt | F1_macro | F1_macro_opt |\n",
            "+----------------------+----------+--------------+----------+--------------+\n",
            "|    DC_Stratified     |  0.479   |    \u001b[32m0.549\u001b[0m     |  0.398   |    \u001b[32m0.548\u001b[0m     |\n",
            "|   DC_Most_Frequent   |  0.535   |    \u001b[31m0.465\u001b[0m     |  0.349   |    \u001b[31m0.317\u001b[0m     |\n",
            "|       DC_Prior       |  0.535   |    \u001b[31m0.465\u001b[0m     |  0.349   |    \u001b[31m0.317\u001b[0m     |\n",
            "|      DC_Uniform      |  0.493   |    \u001b[34m0.493\u001b[0m     |  0.490   |    \u001b[34m0.490\u001b[0m     |\n",
            "|    DC_Constant_0     |  0.465   |    \u001b[34m0.465\u001b[0m     |  0.317   |    \u001b[34m0.317\u001b[0m     |\n",
            "|    DC_Constant_1     |  0.535   |    \u001b[34m0.535\u001b[0m     |  0.349   |    \u001b[34m0.349\u001b[0m     |\n",
            "|      GaussianNB      |  0.915   |    \u001b[34m0.915\u001b[0m     |  0.915   |    \u001b[34m0.915\u001b[0m     |\n",
            "| KNeighborsClassifier |  0.817   |    \u001b[32m0.859\u001b[0m     |  0.804   |    \u001b[32m0.854\u001b[0m     |\n",
            "+----------------------+----------+--------------+----------+--------------+\n",
            "+----------------------+-----------------+---------------------------------------+------------------+----------------------------------------+\n",
            "|  Classifier's Name   | Fit Time (msec) | Fit time of optimal Classifier (msec) | Pred Time (msec) | Pred Time of Optimal Classifier (msec) |\n",
            "+----------------------+-----------------+---------------------------------------+------------------+----------------------------------------+\n",
            "|    DC_Stratified     |       0.66      |                  \u001b[32m0.56\u001b[0m                 |       0.35       |                  \u001b[31m0.36\u001b[0m                  |\n",
            "|   DC_Most_Frequent   |       0.59      |                  \u001b[32m0.29\u001b[0m                 |       0.14       |                  \u001b[34m0.14\u001b[0m                  |\n",
            "|       DC_Prior       |       0.39      |                  \u001b[32m0.27\u001b[0m                 |       0.12       |                  \u001b[31m0.13\u001b[0m                  |\n",
            "|      DC_Uniform      |       0.15      |                  \u001b[31m0.37\u001b[0m                 |       0.15       |                  \u001b[34m0.15\u001b[0m                  |\n",
            "|    DC_Constant_0     |       0.13      |                  \u001b[31m0.40\u001b[0m                 |       0.09       |                  \u001b[31m0.10\u001b[0m                  |\n",
            "|    DC_Constant_1     |       0.17      |                  \u001b[31m0.87\u001b[0m                 |       0.10       |                  \u001b[34m0.10\u001b[0m                  |\n",
            "|      GaussianNB      |       2.17      |                  \u001b[32m1.28\u001b[0m                 |       1.23       |                  \u001b[31m1.54\u001b[0m                  |\n",
            "| KNeighborsClassifier |       2.26      |                  \u001b[32m1.64\u001b[0m                 |       4.63       |                  \u001b[31m5.46\u001b[0m                  |\n",
            "+----------------------+-----------------+---------------------------------------+------------------+----------------------------------------+\n"
          ],
          "name": "stdout"
        }
      ]
    },
    {
      "cell_type": "markdown",
      "metadata": {
        "id": "CuuDcTX2rd2z"
      },
      "source": [
        "#### 5) Σχολιασμός Αποτελεσμάτων"
      ]
    },
    {
      "cell_type": "markdown",
      "metadata": {
        "id": "5XKnY75p4Sm2"
      },
      "source": [
        "Παρατηρούμε ότι πράγματι καταφέραμε να πετύχουμε τον στόχο μας, δηλαδή να βελτιστοποιήσουμε τον ταξινομητή **kNN** και στις $2$ μετρικές $F1$. Αυτό, ωστόσο, όπως παρατηρούμε έχει τίμημα τόσο στον χρόνο πρόβλεψης όσο και εκπαίδευσης. \n",
        "\n",
        "Αξίζει να σημειώσουμε ότι διαφορές επίσης σημειώνονται και σε άλλους ταξινομητές. Η μεταβολή τους οφείλεται στο oversampling του σταδίου προεπεξεργασίας. Για παράδειγμα παρατηρούμε ότι ο GaussianNB βελτίωσε την επίδοσή του. \n",
        "\n",
        "Οι μόνοι ταξινομητές που δεν επηρεάζονται από αυτό είναι οι **constant dummy** των οποίων η απόφαση είναι ανεξάρτητη του training set. \n",
        "\n",
        "Τέλος, συγκριτικά μεταξύ όλων των ταξινομητών, την καλύτερη απόδοση (τόσο σε micro όσο και σε macro $F1$) εξακολουθεί να έχει ο **Gaussian Naive Bayes**. \n"
      ]
    },
    {
      "cell_type": "markdown",
      "metadata": {
        "id": "UkTckkVCt9Uf"
      },
      "source": [
        "# Μεγάλο Dataset (B11)"
      ]
    },
    {
      "cell_type": "markdown",
      "metadata": {
        "id": "LkiY8wLmup8u"
      },
      "source": [
        "## Βασικές πληροφορίες"
      ]
    },
    {
      "cell_type": "markdown",
      "metadata": {
        "id": "xhI0u_5Pu10Y"
      },
      "source": [
        "### 1) Σύντομη παρουσίαση του dataset."
      ]
    },
    {
      "cell_type": "markdown",
      "metadata": {
        "id": "O-8TFEJ9B3fc"
      },
      "source": [
        "Το μεγάλο dataset που πραγματευόμαστε σε αυτή την εργασία είναι το **Nomao Data Set**.\n",
        "Τα δεδομένα που απαρτίζουν το dataset είναι σημεία του κόσμου και ως τέτοια, χαρακτηρίζονται από το όνομα τους, τη διεύθυνση, τη γεωγραφική τους θέση, την ιστοσελίδα, το τηλέφωνο, το fax τους κοκ. Σκοπός του dataset είναι η ανίχνευση των διπλότυπων δεδομένων, των στοιχείων δηλαδή που αναφέρονται στο ίδιο σημείο. Έτσι, τα στιγμιότυπα του Nomao dataset είναι στην ουσία συγκρίσεις μεταξύ των αντίστοιχων χαρακτηριστικών δύο τέτοιων σημείων. \n",
        "\n",
        "![spot](https://img.icons8.com/cotton/2x/worldwide-location.png)\n",
        "\n",
        "Αν τα δύο σημεία κριθούν ότι είναι ίδια και πρέπει να συγχωνευτούν τότε χαρακτηρίζονται με την ετικέτα +1, ενώ αν αποφανθεί ότι είναι διαφορετικά, χαρακτηρίζονται με την ετικέτα -1."
      ]
    },
    {
      "cell_type": "markdown",
      "metadata": {
        "id": "DR_l6fLRu2SZ"
      },
      "source": [
        "### 2) Χαρακτηριστικά (features) του dataset."
      ]
    },
    {
      "cell_type": "markdown",
      "metadata": {
        "id": "VS8ABxOHe0yr"
      },
      "source": [
        "Αρχικά κάνουμε load το dataset μας με χρήση της βιβλιοθήκης pandas"
      ]
    },
    {
      "cell_type": "code",
      "metadata": {
        "colab": {
          "base_uri": "https://localhost:8080/"
        },
        "id": "_NzFP6JOe2cG",
        "outputId": "362411e2-16df-4035-a340-9477ed0eb971"
      },
      "source": [
        "#no headers provided in csv columns\n",
        "df = pd.read_csv('https://raw.githubusercontent.com/manosvek/NN/main/Nomao.data', header=None, low_memory=False)\n",
        "print(df)"
      ],
      "execution_count": null,
      "outputs": [
        {
          "output_type": "stream",
          "text": [
            "                 0         1         2    ...             117             118  119\n",
            "0                0#1  1.000000  1.000000  ...             1.0  0.999999996702    1\n",
            "1                0#2  1.000000  0.750000  ...             1.0  0.999999962459    1\n",
            "2                0#3  1.000000  1.000000  ...             1.0  0.999999999653    1\n",
            "3                4#5  1.000000  0.750000  ...  0.999999947284  0.999994124065    1\n",
            "4                6#7  0.000000  0.000000  ...             1.0               ?    1\n",
            "...              ...       ...       ...  ...             ...             ...  ...\n",
            "34460  505442#638600  0.333333  0.333333  ...  0.999996735202  0.999995759568   -1\n",
            "34461   40886#102945  0.000000  0.000000  ...  0.999999932864  0.999999929934   -1\n",
            "34462  710009#742141  0.000000  0.000000  ...             1.0               ?    1\n",
            "34463  319905#884876  0.500000  0.200000  ...  0.999130880032               ?    1\n",
            "34464  470877#601304  0.500000  0.333333  ...             1.0               ?   -1\n",
            "\n",
            "[34465 rows x 120 columns]\n"
          ],
          "name": "stdout"
        }
      ]
    },
    {
      "cell_type": "markdown",
      "metadata": {
        "id": "pHbwA6X1i_39"
      },
      "source": [
        "Παρατηρούμε ότι τα αποτελέσματα του `print(df)` είναι ίδια με αυτά που αναφέρονται στην περιγραφή του dataset, δηλαδή 34465 δείγματα, όπου κάθε ένα έχει από 120 χαρακτηριστικά. 89 από αυτά τα χαρακτηριστικά είναι πραγματικοί αριθμοί, 29 από αυτά είναι μη διατεταγμένα και η πρώτη και η τελευταία στήλη αφορούν το id και το label αντίστοιχα. Τα μη διατεταγμένα χαρακτηριστικά έχουν τιμή ένα εκ των n, s, m."
      ]
    },
    {
      "cell_type": "markdown",
      "metadata": {
        "id": "S3A2BKYHu2ku"
      },
      "source": [
        "### 3) Επικεφαλίδες και αρίθμηση γραμμών."
      ]
    },
    {
      "cell_type": "markdown",
      "metadata": {
        "id": "hyqE9KPUK6eE"
      },
      "source": [
        "Με μία σύντομη επισκόπηση στο dataset, διαπιστώνουμε ότι δεν υπάρχουν headers στις στήλες. Ωστόσο, στο συμπληρωματικό αρχείο Nomao.names ορίζεται σε τι αναφέρεται το κάθε χαρακτηριστικό του dataset. Επιπλέον, δεν υπάρχει αρίθμηση των γραμμών, αλλά το πρώτο χαρακτηριστικό αποτελείται από τη σύζευξη των δύο υπό εξέταση σημείων."
      ]
    },
    {
      "cell_type": "markdown",
      "metadata": {
        "id": "ZPm3vez2u22P"
      },
      "source": [
        "### 4) Ετικέτες κλάσεων.\n",
        "\n",
        "Οι ετικέτες των κλάσεων (labels) είναι '1' ή '-1' και βρίσκονται στην τελευταία στήλη του dataset. Όπως αναφέραμε η τιμή της ετικέτας εξαρτάται από το αν οι δύο υπό εξέταση εγγραφές αναφέρονται στο ίδιο σημείο (+1) ή όχι (-1)."
      ]
    },
    {
      "cell_type": "markdown",
      "metadata": {
        "id": "b7COw5kgu3Gv"
      },
      "source": [
        "### 5) Μετατροπές αρχείων txt."
      ]
    },
    {
      "cell_type": "markdown",
      "metadata": {
        "id": "26JC_lhHofvC"
      },
      "source": [
        "Για την ανάγνωση των δεδομένων δεν χρειάζεται κάποια επεξεργασία αφού βρίσκονται ήδη σε comma separated value (csv) μορφή. Επομένως, μπορούμε όπως δείξαμε να τα διαβάσουμε απευθείας με την συνάρτηση `read_csv()` της βιβλιοθήκης **pandas**, προσέχοντας όμως να δηλώσουμε ότι δεν υπάρχουν headers (διαφορετικά θα χάναμε το πρώτο δείγμα από τα δεδομένα μας)."
      ]
    },
    {
      "cell_type": "markdown",
      "metadata": {
        "id": "chR-vlCmu3Y2"
      },
      "source": [
        "### 6) Απουσιάζουσες τιμές.\n",
        "\n",
        "Για τις απουσιάζουσες τιμές αρχικά υπολογίζουμε το ποσοστό τους. "
      ]
    },
    {
      "cell_type": "code",
      "metadata": {
        "colab": {
          "base_uri": "https://localhost:8080/"
        },
        "id": "kh53TreLeT_a",
        "outputId": "613542c1-2555-4d81-c3fb-fecb932aec26"
      },
      "source": [
        "#dropping id\n",
        "df = df.drop(df.columns[0], axis=1)\n",
        "#getting features and labels\n",
        "features = df.drop(labels=119, axis=1)\n",
        "labels = df[119]\n",
        "\n",
        "#replacing unknown (?) values with NaN\n",
        "features = features.replace(to_replace='?', value=np.NaN)\n",
        "#counting and printing NaN values\n",
        "perc_null = features.isnull().values.ravel().sum() / (34465*118)\n",
        "print(\"Percentage of NaN values over all samples' features is {}\".format(perc_null))"
      ],
      "execution_count": null,
      "outputs": [
        {
          "output_type": "stream",
          "text": [
            "Percentage of NaN values over all samples' features is 0.286799922298967\n"
          ],
          "name": "stdout"
        }
      ]
    },
    {
      "cell_type": "code",
      "metadata": {
        "id": "qg4VEwY-X4aH"
      },
      "source": [
        "#replacing non numeric values with binary strings\n",
        "columns = features.columns[features.isin(['n', 's', 'm']).any()]\n",
        "features = pd.get_dummies(features, columns=columns)\n",
        "\n",
        "#drop features with at least one NaN value\n",
        "features = features.dropna(axis=1, how='any')\n",
        "features = features.astype(float)\n",
        "\n",
        "features = features.values\n",
        "labels = labels.values"
      ],
      "execution_count": null,
      "outputs": []
    },
    {
      "cell_type": "markdown",
      "metadata": {
        "id": "mutR_pTCZ-n8"
      },
      "source": [
        "Αξίζει να σημειώσουμε ότι η παραπάνω διαδικασία, όσο απλή και \"αυστηρή\" ως προς τα features και να φαίνεται, αποδείχτηκε στην πράξη ότι είναι αυτή που δίνει τα καλύτερα αποτελέσματα. Για του λόγου το αληθές παραθέτουμε παρακάτω μία διαδικασία η οποία μελετάει προσεκτικά τα ποσοστά των άγνωστων τιμών και αφαιρεί δείγματα με πολλές άγνωστες τιμές. Σε features με λίγες απουσιάζουσες τιμές, εφαρμόζουμε mean imputer ώστε να τις καλύψουμε. \n",
        "\n",
        "Ωστόσο η διαδικασία αυτή δίνει χειρότερες μετρικές $F1$ ($\\approx 50-70 \\%$), και γι' αυτό την έχουμε σε σχόλια. (RIP our hopes and dreams)"
      ]
    },
    {
      "cell_type": "markdown",
      "metadata": {
        "id": "QTzecDi92jE4"
      },
      "source": [
        "#### Εναλλακτικός χειρισμός απουσιαζουσών τιμών.\n",
        "\n",
        "Σύμφωνα με το site του dataset, υπάρχουν απουσιάζουσες τιμές, οι οποίες ανοίγοντας το .data αρχείο βλέπουμε ότι συμβολίζονται με ερωτηματικό ('?'). Κάθε δείγμα έχει απουσιάζουσες τιμές (όχι κατ' ανάγκη στις ίδιες στήλες με άλλα δείγματα). Παρακάτω βλέπουμε το ποσοστό των απουσιάζουσων τιμών επί του συνόλου (δείγματα x χαρακτηριστικά) και εκτός αυτού αφαιρούμε την πρώτη στήλη (που αφορά το id) και μετατρέπουμε το '?' σε 'NaN'."
      ]
    },
    {
      "cell_type": "code",
      "metadata": {
        "id": "WghU-hiT7UpB"
      },
      "source": [
        "# #Dropping the id column\n",
        "# df = df.drop(df.columns[0], axis=1)\n",
        "# #Splitting df into features and labels\n",
        "# features = df.drop(labels=119, axis=1)\n",
        "# labels = df[119]\n",
        "# #Changing '?' to 'NaN'\n",
        "# features = features.replace(to_replace='?', value=np.NaN)\n",
        "# features = features.apply(pd.to_numeric, errors='ignore')\n",
        "# #Showing the percentage of null values in our dataset\n",
        "# perc_null = features.isnull().values.ravel().sum() / (34465*118)\n",
        "# print(perc_null)"
      ],
      "execution_count": null,
      "outputs": []
    },
    {
      "cell_type": "markdown",
      "metadata": {
        "id": "Rewh-6Gy7mN4"
      },
      "source": [
        "Αφού το ποσοστό των απουσιάζουσων τιμών στο σύνολο των δεδομένων είναι αρκετά μεγάλο, θέλουμε να βρούμε το ποσοστό των απουσιάζουσων τιμών σε κάθε χαρακτηριστικό."
      ]
    },
    {
      "cell_type": "code",
      "metadata": {
        "id": "cwopnurZnKAB"
      },
      "source": [
        "# import matplotlib.pyplot as plt\n",
        "\n",
        "# columns_missing = df.columns[df.isin(['?']).any()]\n",
        "\n",
        "# number_of_nan = []\n",
        "# for i in columns_missing:\n",
        "#   perc = df[i].value_counts()['?'] / 34465\n",
        "#   number_of_nan.append([i, perc])\n",
        "\n",
        "# number_of_nan =  np.asarray(number_of_nan)\n",
        "# #Showing the columns with NaN values and the percentage of NaN values in them \n",
        "# plt.figure()\n",
        "# plt.title('Percentage of missing values per feature')\n",
        "# plt.xlabel('Feature')\n",
        "# plt.ylabel('Percentage')\n",
        "# plt.bar(number_of_nan[:,0], number_of_nan[:,1])\n",
        "# plt.show()"
      ],
      "execution_count": null,
      "outputs": []
    },
    {
      "cell_type": "markdown",
      "metadata": {
        "id": "TAggAybw_etI"
      },
      "source": [
        "Όπως, παρατηρούμε, ορισμένα χαρακτηριστικά έχουν αρκετά μεγάλο ποσοστό απουσιαζουσών τιμών. Μια προσέγγιση θα ήταν να αντικαταστήσουμε τις απουσιάζουσες τιμές κάθε χαρακτηριστικού με τις μέσες τιμές (των τιμών που δεν είναι άγνωστες για εκείνο το χαρακτηριστικό), αλλά αυτό δεν θα ήταν αρκετά ακριβές σε χαρακτηριστικά με μεγάλο ποσοστό απουσιάζουσων τιμών. Γι' αυτό τον λόγο αποφασίσαμε να κρατήσουμε μόνο τα χαρακτηριστικά όπου οι απουσιάζουσες τιμές είναι λιγότερες από το 1/3 των samples."
      ]
    },
    {
      "cell_type": "code",
      "metadata": {
        "id": "e3M4n0LbAURM"
      },
      "source": [
        "# features = features[features.columns[features.isnull().mean() < 0.33]] #We keep only the features with at least 2/3 of non-null values\n",
        "# print(features)"
      ],
      "execution_count": null,
      "outputs": []
    },
    {
      "cell_type": "markdown",
      "metadata": {
        "id": "-cAhNJxSCV1o"
      },
      "source": [
        "Όπως φαίνεται παρακάτω, το ποσοστό των null τιμών έχει πέσει αρκετά."
      ]
    },
    {
      "cell_type": "code",
      "metadata": {
        "id": "QbKCCwvRCe0q"
      },
      "source": [
        "# #Showing the percentage of null values in our modified dataset\n",
        "# perc_null = features.isnull().values.ravel().sum() / (34465*72)\n",
        "# print(perc_null)"
      ],
      "execution_count": null,
      "outputs": []
    },
    {
      "cell_type": "markdown",
      "metadata": {
        "id": "7A6eAVJTCs4M"
      },
      "source": [
        "Παρ' όλα αυτά πρέπει και αυτές οι null τιμές να αλλαχθούν ή να αφαιρεθούν πριν ξεκινήσουμε με το train-test split. Τα χαρακτηριστικά που έχουν ακόμη απουσιάζουσες τιμές είναι οι:"
      ]
    },
    {
      "cell_type": "code",
      "metadata": {
        "id": "O8b3d2CgDfyo"
      },
      "source": [
        "# #Finding columns with nan values\n",
        "# columns_with_nan = features.columns[features.isna().any()].tolist()\n",
        "# print(columns_with_nan)"
      ],
      "execution_count": null,
      "outputs": []
    },
    {
      "cell_type": "markdown",
      "metadata": {
        "id": "KkISl7B0D8st"
      },
      "source": [
        "Γνωρίζοντας από τα παραπάνω κελιά το ποσοστό των null values σε αυτές τις στήλες, μπορούμε να αφαιρέσουμε τα samples που περιέχουν null values (για τις στήλες 57-62, 65-70, 101-103, 105-107 και 117 που έχουν το πολύ 55 null τιμές). Σε αυτές τις στήλες που θα παραμείνουν null values (49-54, 73-78 και 81-86 που έχουν από 500-5000 null τιμές) μπορούμε να υπολογίσουμε τον μέσο όρο τους μετά τον χωρισμό σε train-test."
      ]
    },
    {
      "cell_type": "code",
      "metadata": {
        "id": "gy1-zF--FJw_"
      },
      "source": [
        "# #We want to see the indexes where the null values are\n",
        "# #We start with columns 101-103, 105-107 and 117 where we have only 6 null values\n",
        "# indexes6 = []\n",
        "# for i in (101, 102, 103, 105, 106, 107, 117):\n",
        "#   indexes6.append(features[features[i].isna()].index.tolist())\n",
        "# if (indexes6[0]==indexes6[1]==indexes6[2]==indexes6[3]==indexes6[4]==indexes6[5]==indexes6[6]):\n",
        "#   print(indexes6[0])\n",
        "# #We continue with columns 65-70 where we have 9 null values\n",
        "# indexes9 = []\n",
        "# for i in (65, 66, 67, 68, 69, 70):\n",
        "#   indexes9.append(features[features[i].isna()].index.tolist())\n",
        "# if (indexes9[0]==indexes9[1]==indexes9[2]==indexes9[3]==indexes9[4]==indexes9[5]):\n",
        "#   print(indexes9[0])\n",
        "# #Finally we check columns 57-62 where we have 55 null values\n",
        "# indexes55 = []\n",
        "# for i in (57, 58, 59, 60, 61, 62):\n",
        "#   indexes55.append(features[features[i].isna()].index.tolist())\n",
        "# if (indexes55[0]==indexes55[1]==indexes55[2]==indexes55[3]==indexes55[4]==indexes55[5]):\n",
        "#   print(indexes55[0])"
      ],
      "execution_count": null,
      "outputs": []
    },
    {
      "cell_type": "markdown",
      "metadata": {
        "id": "olW10TYqM5Ez"
      },
      "source": [
        "*Με* μια γρήγορη ματιά στα παραπάνω αποτελέσματα, βλέπουμε ότι τα δείγματα που προκαλούν τις απουσιάζουσες τιμές είναι επικαλυπτόμενα, οπότε θα το επιβεβαιώσουμε παρακάτω και θα τα αφαιρέσουμε από το dataset."
      ]
    },
    {
      "cell_type": "code",
      "metadata": {
        "id": "nZp2mnkiM2E0"
      },
      "source": [
        "# #Checking if the 55 indexes with null values include those that cause 6 or 9 missing values\n",
        "# check1 = all(index in indexes9[0] for index in indexes6[0])\n",
        "# check2 = all(index in indexes55[0] for index in indexes9[0])\n",
        "# check = check1 and check2\n",
        "# print(check)\n",
        "\n",
        "# #Dropping the indexes\n",
        "# features = features.drop(index=indexes55[0])\n",
        "# labels = labels.drop(index=indexes55[0])\n",
        "# print(features)\n",
        "\n",
        "# #Finding columns with nan values\n",
        "# columns_with_nan = features.columns[features.isna().any()].tolist()\n",
        "# print(\"Remaining columns with NaN values that will be fixed with Imputer after train-test split:\", columns_with_nan)"
      ],
      "execution_count": null,
      "outputs": []
    },
    {
      "cell_type": "markdown",
      "metadata": {
        "id": "Khe67-9hu4Rm"
      },
      "source": [
        "### 7) Εκτίμηση ισορροπίας dataset."
      ]
    },
    {
      "cell_type": "markdown",
      "metadata": {
        "id": "cjkYB5aKDkM9"
      },
      "source": [
        "Το dataset διαθέτει 2 κλάσεις με labels $+1$, $-1$. Όπως διαπιστώνουμε παρακάτω, δεν έχει πλήθος δειγμάτων στο εύρος όπου θα χαρακτηριζόταν ισορροπημένο. Τα occurences σύγκρισης ίδιων τοποθεσιών είναι κατά πολύ περισσότερα απ' ότι διαφορετικών."
      ]
    },
    {
      "cell_type": "code",
      "metadata": {
        "colab": {
          "base_uri": "https://localhost:8080/"
        },
        "id": "NbOXDkSpDkkC",
        "outputId": "17dbf24c-a1a3-48ae-a7b9-be75ee97990a"
      },
      "source": [
        "print('Percentage of same locations (+1): {}%'.format(100 * np.where(labels == 1, 1, 0).sum() / len(labels)))\n",
        "print('Percentage of different locations (-1): {}%'.format(100 * np.where(labels == -1, 1, 0).sum() / len(labels)))"
      ],
      "execution_count": null,
      "outputs": [
        {
          "output_type": "stream",
          "text": [
            "Percentage of same locations (+1): 71.43769041056144%\n",
            "Percentage of different locations (-1): 28.56230958943856%\n"
          ],
          "name": "stdout"
        }
      ]
    },
    {
      "cell_type": "markdown",
      "metadata": {
        "id": "dUvrfiRVu4zR"
      },
      "source": [
        "### 8) Διαχωρισμός σε train και test set.\n",
        "\n",
        "Με τις παρακάτω εντολές κάνουμε τον ζητούμενο διαχωρισμό σε train και dataset με το test dataset να έχει μέγεθος το $30$% του συνολικού set δεδομένων."
      ]
    },
    {
      "cell_type": "code",
      "metadata": {
        "id": "eW03oX4zUUG6"
      },
      "source": [
        "# set random seed for reproduction reasons because gridsearch takes too much time\n",
        "# random.seed(22)\n",
        "# parameter for train_test_split: random_state=22\n",
        "\n",
        "train_final, test_final, train_labels, test_labels = train_test_split(features, labels, test_size=0.3)"
      ],
      "execution_count": null,
      "outputs": []
    },
    {
      "cell_type": "markdown",
      "metadata": {
        "id": "PAk-pcrHbLhl"
      },
      "source": [
        "#### Εναλλακτική Διαδικασία (Imputer)\n",
        "\n",
        "Παρακάτω συνεχίζουμε σε σχόλια την διαδικασία που αναφέρθηκε στο section των απουσιαζουσών τιμών. Σημειώνουμε ότι o imputer μπορεί να εφαρμοστεί μόνο έπειτα από το split, διότι διαφορετικά θα έχουμε bias από το test."
      ]
    },
    {
      "cell_type": "code",
      "metadata": {
        "id": "mwfSY6K5FZ8R"
      },
      "source": [
        "# from sklearn.model_selection import train_test_split\n",
        "\n",
        "#splitting into train and test sets\n",
        "# train, test, train_labels, test_labels = train_test_split(features, labels, test_size=0.3, random_state=22)\n",
        "# train = train.sort_index()\n",
        "# test = test.sort_index()"
      ],
      "execution_count": null,
      "outputs": []
    },
    {
      "cell_type": "markdown",
      "metadata": {
        "id": "Wie3r78OGYfF"
      },
      "source": [
        "Πριν προχωρήσουμε όμως στην διαδικασία του classification, πρέπει να συμπληρώσουμε τα null values με τον μετασχηματιστή Imputer του scikit-learn. Θα εφαρμόσουμε την μέθοδο mean στα train δεδομένα και μετά αυτός ο μέσος όρος θα προστεθεί και στα test (δεν γίνεται να το κάνουμε στο ενοποιημένο dataset, διότι θα εισάγουμε το bias των test δεδομένων και τα αποτελέσματα του classification θα είναι καλύτερα απ' ότι θα έπρεπε). Επίσης, θα μετατρέψουμε και όλες τις μη διατεταγμένες τιμές σε δυαδικές αφότου καλέσουμε την Imputer."
      ]
    },
    {
      "cell_type": "code",
      "metadata": {
        "id": "9SIq4ovgHJ4x"
      },
      "source": [
        "# #Split train and test into numeric and non-numeric \n",
        "# train_numeric = train.select_dtypes(include=np.number)\n",
        "# train_non_numeric = train.select_dtypes(exclude=np.number)\n",
        "# test_numeric = test.select_dtypes(include=np.number)\n",
        "# test_non_numeric = test.select_dtypes(exclude=np.number)"
      ],
      "execution_count": null,
      "outputs": []
    },
    {
      "cell_type": "code",
      "metadata": {
        "id": "9W9wypcZ4EQb"
      },
      "source": [
        "# from sklearn.impute import SimpleImputer\n",
        "\n",
        "# imp = SimpleImputer(missing_values=np.NaN, strategy='mean')\n",
        "\n",
        "# #Using mean strategy for train set\n",
        "# itrain_numeric = pd.DataFrame(imp.fit_transform(train_numeric))\n",
        "# itrain_numeric.columns = train_numeric.columns\n",
        "# itrain_numeric.index = train_numeric.index\n",
        "\n",
        "# #Using the mean calculated above for test set\n",
        "# itest_numeric = pd.DataFrame(imp.transform(test_numeric.values))\n",
        "# itest_numeric.columns = test_numeric.columns\n",
        "# itest_numeric.index = test_numeric.index"
      ],
      "execution_count": null,
      "outputs": []
    },
    {
      "cell_type": "code",
      "metadata": {
        "id": "cofj-FwV5_rK"
      },
      "source": [
        "# #Joining back the data\n",
        "# train_new = pd.concat([itrain_numeric, train_non_numeric], axis=1)\n",
        "# test_new = pd.concat([itest_numeric, test_non_numeric], axis=1)\n",
        "\n",
        "# #Replacing non-numeric values with binary equivalents\n",
        "# columns = features.columns[features.isin(['n', 's', 'm']).any()]\n",
        "# train_final = pd.get_dummies(train_new, columns=columns)\n",
        "# test_final = pd.get_dummies(test_new, columns=columns)\n",
        "# print(\"Final Train Dataset\")\n",
        "# print(train_final)\n",
        "# print(\"Final Test Dataset\")\n",
        "# print(test_final)"
      ],
      "execution_count": null,
      "outputs": []
    },
    {
      "cell_type": "markdown",
      "metadata": {
        "id": "UnKlh7lAvl8A"
      },
      "source": [
        "## Ταξινόμηση"
      ]
    },
    {
      "cell_type": "markdown",
      "metadata": {
        "id": "7QPg6NBF6HLX"
      },
      "source": [
        "### Baseline Classification"
      ]
    },
    {
      "cell_type": "markdown",
      "metadata": {
        "id": "9yvzCkrI6VAK"
      },
      "source": [
        "#### 1) Εκπαίδευση των Classifiers\n",
        "\n",
        "Αρχικά πειραματιζόμαστε με την δημιουργία των default classifiers ανά περίπτωση. Για κάθε classifier κάνουμε plot και το confusion matrix που αντιστοιχεί στο test set. Επίσης, σχηματίζουμε έναν πίνακα που περιέχει όλες τις average μετρικές αξιολόγησης των ταξινομητών."
      ]
    },
    {
      "cell_type": "code",
      "metadata": {
        "id": "bjiRN2sANjc-"
      },
      "source": [
        "#Default Initialization\n",
        "dc_stratified = DummyClassifier(strategy=\"stratified\")\n",
        "dc_most_frequent = DummyClassifier(strategy=\"most_frequent\")\n",
        "dc_prior = DummyClassifier(strategy=\"prior\")\n",
        "dc_uniform = DummyClassifier(strategy=\"uniform\")\n",
        "dc_constant__1 = DummyClassifier(strategy=\"constant\", constant=-1)\n",
        "dc_constant_1 = DummyClassifier(strategy=\"constant\", constant=1)\n",
        "gnb = GaussianNB()\n",
        "knn = KNeighborsClassifier()\n",
        "svm = SVC()\n",
        "mlp = MLPClassifier()\n",
        "\n",
        "classifiers = [dc_stratified, dc_most_frequent, dc_prior, dc_uniform, dc_constant__1, dc_constant_1, gnb, knn, mlp, svm]\n",
        "classifiers_names = [\"DC_Stratified\", \"DC_Most_Frequent\", \"DC_Prior\", \"DC_Uniform\", \"DC_Constant_-1\", \"DC_Constant_1\", \"GNB\", \"kNN\", \"MLP\", \"SVM\"]\n",
        "\n",
        "#Training \n",
        "fit_times = []\n",
        "#fitting and computing CPU time\n",
        "for clf in classifiers:\n",
        "  start = time.process_time()\n",
        "  clf.fit(train_final, train_labels)\n",
        "  fit_times.append('{:.2f}'.format(1000 * (time.process_time() - start)))"
      ],
      "execution_count": null,
      "outputs": []
    },
    {
      "cell_type": "code",
      "metadata": {
        "colab": {
          "base_uri": "https://localhost:8080/",
          "height": 681
        },
        "id": "EeVBE1Oz9wrK",
        "outputId": "78fc535c-1130-42c2-e651-cfb04a88ba7e"
      },
      "source": [
        "#confusion matrix, f1_micro and f1_macro average\n",
        "plot_conf(classifiers, classifiers_names, test_final, test_labels)\n",
        "f1_micro_average, f1_macro_average, pred_times = compute_f1_scores(classifiers, classifiers_names, test_final, test_labels) "
      ],
      "execution_count": null,
      "outputs": [
        {
          "output_type": "display_data",
          "data": {
            "image/png": "[encoded data removed]",
            "text/plain": [
              "<Figure size 1440x432 with 20 Axes>"
            ]
          },
          "metadata": {
            "tags": [],
            "needs_background": "light"
          }
        },
        {
          "output_type": "stream",
          "text": [
            "+-------------------+----------+----------+\n",
            "| Classifier's Name | F1_micro | F1_macro |\n",
            "+-------------------+----------+----------+\n",
            "|   DC_Stratified   |  0.589   |  0.496   |\n",
            "|  DC_Most_Frequent |  0.715   |  0.417   |\n",
            "|      DC_Prior     |  0.715   |  0.417   |\n",
            "|     DC_Uniform    |  0.502   |  0.476   |\n",
            "|   DC_Constant_-1  |  0.285   |  0.222   |\n",
            "|   DC_Constant_1   |  0.715   |  0.417   |\n",
            "|        GNB        |  0.837   |  0.820   |\n",
            "|        kNN        |  0.946   |  0.933   |\n",
            "|        MLP        |  0.951   |  0.940   |\n",
            "|        SVM        |  0.949   |  0.937   |\n",
            "+-------------------+----------+----------+\n"
          ],
          "name": "stdout"
        }
      ]
    },
    {
      "cell_type": "markdown",
      "metadata": {
        "id": "MrwnSeI-6bP2"
      },
      "source": [
        "#### 2) Διαγράμματα σύγκρισης απόδοσης\n",
        "\n",
        "Σχεδιάζουμε τα bar plots ώστε να συγκρίνουμε τα $F1$-score των ταξινομητών."
      ]
    },
    {
      "cell_type": "code",
      "metadata": {
        "id": "6gGtyCYGQSha",
        "colab": {
          "base_uri": "https://localhost:8080/",
          "height": 608
        },
        "outputId": "92eeaaab-f74a-4ee3-dfd7-41e4b4c72c13"
      },
      "source": [
        "#plotting f1 scores in bar plots for each classifier\n",
        "comparing_bar_plot(classifiers, classifiers_names, f1_micro_average, 'F1_micro', f1_macro_average, 'F1_macro')"
      ],
      "execution_count": null,
      "outputs": [
        {
          "output_type": "display_data",
          "data": {
            "image/png": "[encoded data removed]",
            "text/plain": [
              "<Figure size 1440x720 with 1 Axes>"
            ]
          },
          "metadata": {
            "tags": [],
            "needs_background": "light"
          }
        }
      ]
    },
    {
      "cell_type": "markdown",
      "metadata": {
        "id": "-CT9PtHA6jV1"
      },
      "source": [
        "#### 3) Σχόλια Αποτελεσμάτων\n",
        "\n",
        "Παρατηρούμε ότι οι επιδόσεις των default ταξινομητών δεν είναι και τόσο καλές. Αυτό ενδεχομένως να αναδεικνύει την δυσκολία του dataset. Την καλύτερη επίδοση σε $F1$-micro επιτυγχάνουν οι dummies most-frequent, prior και constant 1, καθώς και ο SVM. Οι υπόλοιποι ταξινομητές επιτυγχάνουν χαμηλότερο score. \n",
        "\n",
        "Υπενθυμίζουμε ότι το $F1$-micro είναι ίσο με το accuracy του ταξινομητή. Αξίζει να παρατηρήσουμε ότι στην προκειμένη περίπτωση οι δύο μετρικές φαίνεται να έχουν αρκετή απόκλιση (σε σχέση με τις αντίστοιχες παρατηρήσεις στο μικρό dataset)."
      ]
    },
    {
      "cell_type": "markdown",
      "metadata": {
        "id": "qFZCtAtU6t1j"
      },
      "source": [
        "### Βελτιστοποίηση Ταξινομητών\n",
        "\n",
        "Στο στάδιο αυτό θα επιχειρήσουμε να βελτιστοποιήσουμε την διαδικασία ταξινόμησης. Για να το επιτύχουμε αυτό θα βελτιώσουμε το σύνολο εκπαίδευσης το οποίο είναι imbalanced και έπειτα θα κάνουμε hyperparameter tuning στους ταξινομητές. Οι υπερπαράμετροι που θα επιχειρήσουμε να βελτιστοποιήσουμε για κάθε classifier θα είναι:\n",
        " - **kNN:** n_neighbors, metric, weights.\n",
        " - **MLP:** hidden_layer_sizes (με ένα επίπεδο κρυμμένων νευρώνων), activation, solver, max_iter, learning_rate, alpha.\n",
        " - **SVM:** Για τον SVM ανάλογα το είδος του πυρήνα έχουμε:\n",
        "   - **Linear Kernel:** loss, tol, C.\n",
        "   - **Poly και RBF:** C, degree (για πυρήνα poly), gamma, tol.\n",
        "\n",
        "<br>\n",
        "Εκτός από την βελτιστοποίηση των υπερπαραμέτρων των ταξινομητών, πειραματιζόμαστε και με τη βελτιστοποίηση της προεπεξεργασίας των δεδομένων και πιο συγκεκριμένα με το κατώφλι διακύμανσης (Variance Threshold) των χαρακτηριστικών (threshold), καθώς και με το πλήθος συνεκτικών συνιστοσών που θα προκύψουν εν τέλει από την PCA (n_components)."
      ]
    },
    {
      "cell_type": "markdown",
      "metadata": {
        "id": "iLgFClsA60hX"
      },
      "source": [
        "#### 0) Data Preprocessing"
      ]
    },
    {
      "cell_type": "markdown",
      "metadata": {
        "id": "08wrgWkhHWk1"
      },
      "source": [
        "Λόγω κακής επίδοσης των ταξινομητών αποφασίστηκε να μην χρησιμοποιηθεί oversampling. Γι' αυτόν τον λόγο το παραθέτουμε σε σχόλια."
      ]
    },
    {
      "cell_type": "markdown",
      "metadata": {
        "id": "X-9bzx4GHy4P"
      },
      "source": [
        "##### Oversampling"
      ]
    },
    {
      "cell_type": "code",
      "metadata": {
        "id": "IOb_wxnRIKjT",
        "colab": {
          "base_uri": "https://localhost:8080/"
        },
        "outputId": "ebc9e170-de89-4a68-f4d2-3a6832f3061a"
      },
      "source": [
        "print('Percentage of same locations (+1): {}%'.format(100 * np.where(train_labels == 1, 1, 0).sum() / len(train_labels)))\n",
        "print('Percentage of different locations (-1): {}%'.format(100 * np.where(train_labels == -1, 1, 0).sum() / len(train_labels)))"
      ],
      "execution_count": null,
      "outputs": [
        {
          "output_type": "stream",
          "text": [
            "Percentage of same locations (+1): 71.40310880829016%\n",
            "Percentage of different locations (-1): 28.596891191709844%\n"
          ],
          "name": "stdout"
        }
      ]
    },
    {
      "cell_type": "markdown",
      "metadata": {
        "id": "2JcZdM4hN8oD"
      },
      "source": [
        "Παρατηρούμε ότι και στο train set το ποσοστό των ίδιων τοποθεσιών είναι κατά πολύ μεγαλύτερο των διαφορετικών."
      ]
    },
    {
      "cell_type": "code",
      "metadata": {
        "id": "DJHXAZAAN9Ip"
      },
      "source": [
        "# ros = RandomOverSampler()\n",
        "\n",
        "# train_final, train_labels = ros.fit_resample(train_final, train_labels)\n",
        "\n",
        "# print('Percentage of same locations (+1): {}%'.format(100 * np.where(train_labels == 1, 1, 0).sum() / len(train_labels)))\n",
        "# print('Percentage of different locations (-1): {}%'.format(100 * np.where(train_labels == -1, 1, 0).sum() / len(train_labels)))"
      ],
      "execution_count": null,
      "outputs": []
    },
    {
      "cell_type": "markdown",
      "metadata": {
        "id": "uZB1HBMfN-Dj"
      },
      "source": [
        "Με το oversampling εξισορροπήθηκε το train dataset όπως φαίνεται παραπάνω."
      ]
    },
    {
      "cell_type": "markdown",
      "metadata": {
        "id": "W1Rcv-xR60XY"
      },
      "source": [
        "#### 1) Hyperparameter Tuning\n",
        "\n",
        "Αρχικά, με grid search βρίσκουμε τις βέλτιστες παραμέτρους των ταξινομητών. Όλους τους ταξινομητές θα τους βελτιστοποιήσουμε και ως προς την μετρική $F1-$micro και $F1-$macro. Παρατηρούμε ωστόσο ότι σε κάθε περίπτωση οι βέλτιστες παράμετροι συμπίπτουν. \n",
        "\n",
        "Πρώτα βελτιστοποιούμε τον k-Nearest Neighbors Classifier. "
      ]
    },
    {
      "cell_type": "code",
      "metadata": {
        "id": "CsBtwsaAhGe_"
      },
      "source": [
        "param_grid = {\n",
        "  'selector__threshold': [0.001, 0.01, 0.1],\n",
        "  'pca__n_components': [10, 20, 30, 40],\n",
        "  'knn__n_neighbors': [1, 6, 11, 21, 31, 41],\n",
        "  'knn__weights': ['uniform', 'distance']\n",
        "}\n",
        "\n",
        "selector = VarianceThreshold()\n",
        "scaler = StandardScaler()\n",
        "pca = PCA()\n",
        "knn = KNeighborsClassifier(n_jobs=-1)\n",
        "\n",
        "pipe_knn = Pipeline(steps=[('selector', selector), ('scaler', scaler), ('pca', pca), ('knn', knn)], memory='tmp')\n",
        "\n",
        "estimator_knn_micro = GridSearchCV(pipe_knn, param_grid, cv=5, scoring='f1_micro', n_jobs=-1)\n",
        "estimator_knn_macro = GridSearchCV(pipe_knn, param_grid, cv=5, scoring='f1_macro', n_jobs=-1)\n",
        "\n",
        "estimator_knn_micro.fit(train_final, train_labels)\n",
        "estimator_knn_macro.fit(train_final, train_labels)\n",
        "\n",
        "print(estimator_knn_micro.best_params_)\n",
        "print(estimator_knn_macro.best_params_)\n",
        "\n",
        "# Result :\n",
        "# {'knn__n_neighbors': 11, 'knn__weights': 'distance', 'pca__n_components': 40, 'selector__threshold': 0.1}\n",
        "# {'knn__n_neighbors': 11, 'knn__weights': 'distance', 'pca__n_components': 40, 'selector__threshold': 0.1}"
      ],
      "execution_count": null,
      "outputs": []
    },
    {
      "cell_type": "markdown",
      "metadata": {
        "id": "tuHL3gTz_k0P"
      },
      "source": [
        "Επειτα βελτιστοποιούμε τον Multilayer Perceptron Classifier."
      ]
    },
    {
      "cell_type": "code",
      "metadata": {
        "id": "RKIb0vSpVBtL"
      },
      "source": [
        "param_grid = {\n",
        "    'selector__threshold': [0.1],\n",
        "    'pca__n_components': [40],\n",
        "    'mlp__hidden_layer_sizes': [60, 80, 100],\n",
        "    'mlp__activation': ['identity', 'logistic', 'tanh', 'relu'],\n",
        "    'mlp__solver': ['lbfgs', 'sgd', 'adam'],\n",
        "    'mlp__max_iter': [200, 300],\n",
        "    'mlp__learning_rate': ['adaptive'],\n",
        "    'mlp__alpha': [0.0001, 0.001]\n",
        "}\n",
        "\n",
        "selector = VarianceThreshold()\n",
        "scaler = StandardScaler()\n",
        "pca = PCA()\n",
        "mlp = MLPClassifier()\n",
        "\n",
        "pipe_mlp = Pipeline(steps=[('selector', selector), ('scaler', scaler), ('pca', pca), ('mlp', mlp)], memory='tmp')\n",
        "\n",
        "estimator_mlp_micro = GridSearchCV(pipe_mlp, param_grid, cv=5, scoring='f1_micro', n_jobs=-1)\n",
        "estimator_mlp_macro = GridSearchCV(pipe_mlp, param_grid, cv=5, scoring='f1_macro', n_jobs=-1)\n",
        "\n",
        "estimator_mlp_micro.fit(train_final, train_labels)\n",
        "estimator_mlp_macro.fit(train_final, train_labels)\n",
        "\n",
        "print(estimator_mlp_micro.best_params_)\n",
        "print(estimator_mlp_macro.best_params_)\n",
        "\n",
        "# Result :\n",
        "# {'mlp__activation': 'logistic', 'mlp__alpha': 0.0001, 'mlp__hidden_layer_sizes': 60, 'mlp__learning_rate': 'adaptive', 'mlp__max_iter': 300, 'mlp__solver': 'adam', 'pca__n_components': 40, 'selector__threshold': 0.1}\n",
        "# {'mlp__activation': 'logistic', 'mlp__alpha': 0.001, 'mlp__hidden_layer_sizes': 80, 'mlp__learning_rate': 'adaptive', 'mlp__max_iter': 200, 'mlp__solver': 'adam', 'pca__n_components': 40, 'selector__threshold': 0.1}"
      ],
      "execution_count": null,
      "outputs": []
    },
    {
      "cell_type": "markdown",
      "metadata": {
        "id": "p-JFlpi5AA_k"
      },
      "source": [
        "Στη συνέχεια βελτιστοποιούμε τον Support Vector Machine Classifier για την περίπτωση του γραμμικού πυρήνα. "
      ]
    },
    {
      "cell_type": "code",
      "metadata": {
        "id": "lg9xSdm2VY8S"
      },
      "source": [
        "param_grid = {'selector__threshold': [0.1],\n",
        "              'pca__n_components': [40],\n",
        "              'svc__loss': ['hinge', 'squared_hinge'],\n",
        "              'svc__C': [1, 2, 3],\n",
        "              'svc__tol': [0.0001, 0.001, 0.01, 0.1]}\n",
        "\n",
        "selector = VarianceThreshold()\n",
        "scaler = StandardScaler()\n",
        "pca = PCA()\n",
        "svc_lin = LinearSVC()\n",
        "\n",
        "pipe_svc_lin = Pipeline(steps=[('selector', selector), ('scaler', scaler), ('pca', pca), ('svc', svc_lin)], memory='tmp')\n",
        "\n",
        "estimator_svc_lin_micro = GridSearchCV(pipe_svc_lin, param_grid, cv=5, scoring='f1_micro', n_jobs=-1)\n",
        "estimator_svc_lin_macro = GridSearchCV(pipe_svc_lin, param_grid, cv=5, scoring='f1_macro', n_jobs=-1)\n",
        "\n",
        "estimator_svc_lin_micro.fit(train_final, train_labels)\n",
        "estimator_svc_lin_macro.fit(train_final, train_labels)\n",
        "\n",
        "print(estimator_svc_lin_micro.best_params_)\n",
        "print(estimator_svc_lin_macro.best_params_)\n",
        "\n",
        "# Result :\n",
        "# {'pca__n_components': 40, 'selector__threshold': 0.1, 'svc__C': 3, 'svc__loss': 'squared_hinge', 'svc__tol': 0.0001}\n",
        "# {'pca__n_components': 40, 'selector__threshold': 0.1, 'svc__C': 3, 'svc__loss': 'squared_hinge', 'svc__tol': 0.1}"
      ],
      "execution_count": null,
      "outputs": []
    },
    {
      "cell_type": "markdown",
      "metadata": {
        "id": "kYjJ5mdEAKbD"
      },
      "source": [
        "Τέλος, βελτιστοποιούμε τον SVC για τις υπόλοιπες περιπτώσεις πυρήνα."
      ]
    },
    {
      "cell_type": "code",
      "metadata": {
        "id": "1nxfzB2yVzQG"
      },
      "source": [
        "param_grid = {'selector__threshold': [0.1],\n",
        "              'pca__n_components': [40],\n",
        "              'svc__kernel': ['rbf', 'poly'],\n",
        "              'svc__C': [1, 5, 10, 50],\n",
        "              'svc__gamma': [0.0001, 0.001],\n",
        "              'svc__tol': [0.0001, 0.001],\n",
        "              'svc__degree': [2, 3, 4]}\n",
        "\n",
        "selector = VarianceThreshold()\n",
        "scaler = StandardScaler()\n",
        "pca = PCA()\n",
        "svc = SVC()\n",
        "\n",
        "pipe_svc = Pipeline(steps=[('selector', selector), ('scaler', scaler), ('pca', pca), ('svc', svc)], memory='tmp')\n",
        "\n",
        "estimator_svc_micro = GridSearchCV(pipe_svc, param_grid, cv=5, scoring='f1_micro', n_jobs=-1)\n",
        "estimator_svc_macro = GridSearchCV(pipe_svc, param_grid, cv=5, scoring='f1_macro', n_jobs=-1)\n",
        "\n",
        "estimator_svc_micro.fit(train_final, train_labels)\n",
        "estimator_svc_macro.fit(train_final, train_labels)\n",
        "\n",
        "print(estimator_svc_micro.best_params_)\n",
        "print(estimator_svc_macro.best_params_)\n",
        "\n",
        "# Result :\n",
        "# {'pca__n_components': 40, 'selector__threshold': 0.1, 'svc__C': 50, 'svc__degree': 2, 'svc__gamma': 0.001, 'svc__kernel': 'rbf', 'svc__tol': 0.0001}\n",
        "# {'pca__n_components': 40, 'selector__threshold': 0.1, 'svc__C': 50, 'svc__degree': 2, 'svc__gamma': 0.001, 'svc__kernel': 'rbf', 'svc__tol': 0.001}"
      ],
      "execution_count": null,
      "outputs": []
    },
    {
      "cell_type": "markdown",
      "metadata": {
        "id": "-CGkKBPeAh5x"
      },
      "source": [
        "Έχοντας υπολογίσει τις βέλτιστες παραμέτρους, αρχικοποιούμε τους classifiers μας και παράγουμε τα διαγράμματα των confusion matrices, ως επίσης και τις τιμές των μετρικών απόδοσης. Επιλέξαμε για ευκολία οπτικοποίησης να παραθέσουμε μόνο τους $F1$-micro βελτιστοποιημένους ταξινομητές. Άλλωστε, οι παράμετροι των δύο βελτιστοποιήσεων είναι αρκετά κοντά μεταξύ τους. "
      ]
    },
    {
      "cell_type": "code",
      "metadata": {
        "id": "Ac4O56jv5wyU",
        "colab": {
          "base_uri": "https://localhost:8080/"
        },
        "outputId": "2e8bc6f1-1689-45ad-9226-d14675f76bf8"
      },
      "source": [
        "#Initializing \"optimal\" classifiers\n",
        "\n",
        "#Dummy classifiers and GNB are set to default. \n",
        "dc_stratified = DummyClassifier(strategy=\"stratified\")\n",
        "dc_most_frequent = DummyClassifier(strategy=\"most_frequent\")\n",
        "dc_prior = DummyClassifier(strategy=\"prior\")\n",
        "dc_uniform = DummyClassifier(strategy=\"uniform\")\n",
        "dc_constant__1 = DummyClassifier(strategy=\"constant\", constant=-1)\n",
        "dc_constant_1 = DummyClassifier(strategy=\"constant\", constant=1)\n",
        "\n",
        "#GNB Classifier\n",
        "gnb = GaussianNB()\n",
        "\n",
        "#knn\n",
        "# params = {'knn__n_neighbors': 11, 'knn__weights': 'distance', 'pca__n_components': 40, 'selector__threshold': 0.1}\n",
        "params = estimator_knn_micro.best_params_\n",
        "selector = VarianceThreshold()\n",
        "scaler = StandardScaler()\n",
        "pca = PCA()\n",
        "knn = KNeighborsClassifier(n_jobs=-1)\n",
        "knn_opt = Pipeline(steps=[('selector', selector), ('scaler', scaler), ('pca', pca), ('knn', knn)], memory='tmp')\n",
        "knn_opt.set_params(**params)\n",
        "\n",
        "#MLP\n",
        "# params = {'mlp__activation': 'logistic', 'mlp__alpha': 0.0001, 'mlp__hidden_layer_sizes': 60, 'mlp__learning_rate': 'adaptive', 'mlp__max_iter': 300, 'mlp__solver': 'adam', 'pca__n_components': 40, 'selector__threshold': 0.1}\n",
        "params = estimator_mlp_micro.best_params_\n",
        "selector = VarianceThreshold()\n",
        "scaler = StandardScaler()\n",
        "pca = PCA()\n",
        "mlp = MLPClassifier()\n",
        "mlp_opt = Pipeline(steps=[('selector', selector), ('scaler', scaler), ('pca', pca), ('mlp', mlp)], memory='tmp')\n",
        "mlp_opt.set_params(**params)\n",
        "\n",
        "#SVC linear kernel\n",
        "# params = {'pca__n_components': 40, 'selector__threshold': 0.1, 'svc__C': 3, 'svc__loss': 'squared_hinge', 'svc__tol': 0.0001}\n",
        "params = estimator_svc_lin_micro.best_params_\n",
        "selector = VarianceThreshold()\n",
        "scaler = StandardScaler()\n",
        "pca = PCA()\n",
        "svc_lin = LinearSVC()\n",
        "svm_lin_opt = Pipeline(steps=[('selector', selector), ('scaler', scaler), ('pca', pca), ('svc', svc_lin)], memory='tmp')\n",
        "svm_lin_opt.set_params(**params)\n",
        "\n",
        "#SVC\n",
        "# params = {'pca__n_components': 40, 'selector__threshold': 0.1, 'svc__C': 50, 'svc__degree': 2, 'svc__gamma': 0.001, 'svc__kernel': 'rbf', 'svc__tol': 0.0001}\n",
        "params = estimator_svc_micro.best_params_\n",
        "selector = VarianceThreshold()\n",
        "scaler = StandardScaler()\n",
        "pca = PCA()\n",
        "svc = SVC()\n",
        "svm_opt = Pipeline(steps=[('selector', selector), ('scaler', scaler), ('pca', pca), ('svc', svc)], memory='tmp')\n",
        "svm_opt.set_params(**params)\n"
      ],
      "execution_count": null,
      "outputs": [
        {
          "output_type": "execute_result",
          "data": {
            "text/plain": [
              "Pipeline(memory='tmp',\n",
              "         steps=[('selector', VarianceThreshold(threshold=0.1)),\n",
              "                ('scaler',\n",
              "                 StandardScaler(copy=True, with_mean=True, with_std=True)),\n",
              "                ('pca',\n",
              "                 PCA(copy=True, iterated_power='auto', n_components=40,\n",
              "                     random_state=None, svd_solver='auto', tol=0.0,\n",
              "                     whiten=False)),\n",
              "                ('svc',\n",
              "                 SVC(C=50, break_ties=False, cache_size=200, class_weight=None,\n",
              "                     coef0=0.0, decision_function_shape='ovr', degree=2,\n",
              "                     gamma=0.001, kernel='rbf', max_iter=-1, probability=False,\n",
              "                     random_state=None, shrinking=True, tol=0.0001,\n",
              "                     verbose=False))],\n",
              "         verbose=False)"
            ]
          },
          "metadata": {
            "tags": []
          },
          "execution_count": 39
        }
      ]
    },
    {
      "cell_type": "code",
      "metadata": {
        "id": "tzHn-_amwN2Q",
        "colab": {
          "base_uri": "https://localhost:8080/"
        },
        "outputId": "fef09a0b-0448-4782-d18a-d3747054ce4b"
      },
      "source": [
        "#Set of optimal classifiers\n",
        "classifiers_opt = [dc_stratified, dc_most_frequent, dc_prior, dc_uniform, dc_constant__1, dc_constant_1, gnb,\\\n",
        "                   knn_opt, mlp_opt, svm_lin_opt, svm_opt]\n",
        "classifiers_opt_names = [\"DC_Stratified\", \"DC_Most_Frequent\", \"DC_Prior\", \"DC_Uniform\", \"DC_Constant_-1\", \"DC_Constant_1\", \"GNB\",\\\n",
        "                         \"KNN_opt\", \"MLP_opt\", \"SVM_lin_opt\", \"SVM_opt\"]\n",
        "\n",
        "fit_times_opt = []\n",
        "#fitting and computing CPU time\n",
        "for clf in classifiers_opt:\n",
        "  start = time.process_time()\n",
        "  clf.fit(train_final, train_labels)\n",
        "  fit_times_opt.append('{:.2f}'.format(1000 * (time.process_time() - start)))"
      ],
      "execution_count": null,
      "outputs": [
        {
          "output_type": "stream",
          "text": [
            "/usr/local/lib/python3.6/dist-packages/sklearn/neural_network/_multilayer_perceptron.py:571: ConvergenceWarning: Stochastic Optimizer: Maximum iterations (300) reached and the optimization hasn't converged yet.\n",
            "  % self.max_iter, ConvergenceWarning)\n",
            "/usr/local/lib/python3.6/dist-packages/sklearn/svm/_base.py:947: ConvergenceWarning: Liblinear failed to converge, increase the number of iterations.\n",
            "  \"the number of iterations.\", ConvergenceWarning)\n"
          ],
          "name": "stderr"
        }
      ]
    },
    {
      "cell_type": "code",
      "metadata": {
        "id": "CYodCcIS0ME6",
        "colab": {
          "base_uri": "https://localhost:8080/",
          "height": 665
        },
        "outputId": "6bf45722-114b-4347-9af4-2a87bc42d1fd"
      },
      "source": [
        "#plotting confusion matrix\n",
        "plot_conf(classifiers_opt, classifiers_opt_names, test_final, test_labels)\n",
        "\n",
        "#calculating and printing f1 scores\n",
        "f1_micro_average_opt, f1_macro_average_opt, pred_times_opt = compute_f1_scores(classifiers_opt, classifiers_opt_names, test_final, test_labels)"
      ],
      "execution_count": null,
      "outputs": [
        {
          "output_type": "display_data",
          "data": {
            "image/png": "[encoded data removed]",
            "text/plain": [
              "<Figure size 1584x432 with 22 Axes>"
            ]
          },
          "metadata": {
            "tags": [],
            "needs_background": "light"
          }
        },
        {
          "output_type": "stream",
          "text": [
            "+-------------------+----------+----------+\n",
            "| Classifier's Name | F1_micro | F1_macro |\n",
            "+-------------------+----------+----------+\n",
            "|   DC_Stratified   |  0.587   |  0.495   |\n",
            "|  DC_Most_Frequent |  0.715   |  0.417   |\n",
            "|      DC_Prior     |  0.715   |  0.417   |\n",
            "|     DC_Uniform    |  0.494   |  0.469   |\n",
            "|   DC_Constant_-1  |  0.285   |  0.222   |\n",
            "|   DC_Constant_1   |  0.715   |  0.417   |\n",
            "|        GNB        |  0.837   |  0.820   |\n",
            "|      KNN_opt      |  0.947   |  0.935   |\n",
            "|      MLP_opt      |  0.951   |  0.940   |\n",
            "|    SVM_lin_opt    |  0.938   |  0.923   |\n",
            "|      SVM_opt      |  0.948   |  0.936   |\n",
            "+-------------------+----------+----------+\n"
          ],
          "name": "stdout"
        }
      ]
    },
    {
      "cell_type": "markdown",
      "metadata": {
        "id": "Th4FFbgw7MHg"
      },
      "source": [
        "#### 2) Χρόνοι Εκτέλεσης\n",
        "\n",
        "Παρακάτω παρουσιάζουμε τους χρόνους εκπαίδευσης στο train set και πρόβλεψης στο test set για καθέναν από τους classifiers."
      ]
    },
    {
      "cell_type": "code",
      "metadata": {
        "id": "20KvptRw6GXr",
        "colab": {
          "base_uri": "https://localhost:8080/"
        },
        "outputId": "f0619f7b-bc81-43f8-ea1f-86fe40421fff"
      },
      "source": [
        "#printing table with CPU times\n",
        "print_times(classifiers_opt_names, fit_times_opt, pred_times_opt)"
      ],
      "execution_count": null,
      "outputs": [
        {
          "output_type": "stream",
          "text": [
            "+-------------------+-----------------+------------------------+\n",
            "| Classifier's Name | Fit Time (msec) | Prediction Time (msec) |\n",
            "+-------------------+-----------------+------------------------+\n",
            "|   DC_Stratified   |       1.97      |          1.30          |\n",
            "|  DC_Most_Frequent |       1.00      |          0.15          |\n",
            "|      DC_Prior     |       1.08      |          0.10          |\n",
            "|     DC_Uniform    |       0.97      |          0.16          |\n",
            "|   DC_Constant_-1  |       1.11      |          0.09          |\n",
            "|   DC_Constant_1   |       0.98      |          0.10          |\n",
            "|        GNB        |      37.47      |         11.40          |\n",
            "|      KNN_opt      |      706.57     |        2385.13         |\n",
            "|      MLP_opt      |     85693.40    |         59.23          |\n",
            "|    SVM_lin_opt    |     2978.03     |         22.08          |\n",
            "|      SVM_opt      |     10635.13    |        2966.11         |\n",
            "+-------------------+-----------------+------------------------+\n"
          ],
          "name": "stdout"
        }
      ]
    },
    {
      "cell_type": "markdown",
      "metadata": {
        "id": "hzV0DxJ860Me"
      },
      "source": [
        "#### 3) Σύγκριση των Averaged Metrics\n",
        "\n",
        "Παρακάτω παρουσιάζουμε το συγκριτικό διάγραμμα με τις μετρικές απόδοσης για όλους τους ταξινομητές."
      ]
    },
    {
      "cell_type": "code",
      "metadata": {
        "id": "9RN538946HJw",
        "colab": {
          "base_uri": "https://localhost:8080/",
          "height": 608
        },
        "outputId": "b6ad04d2-393c-498d-ee04-67cc5666a302"
      },
      "source": [
        "comparing_bar_plot(classifiers_opt, classifiers_opt_names, f1_micro_average_opt, 'F1_micro', f1_macro_average_opt, 'F1_macro')"
      ],
      "execution_count": null,
      "outputs": [
        {
          "output_type": "display_data",
          "data": {
            "image/png": "[encoded data removed]",
            "text/plain": [
              "<Figure size 1440x720 with 1 Axes>"
            ]
          },
          "metadata": {
            "tags": [],
            "needs_background": "light"
          }
        }
      ]
    },
    {
      "cell_type": "markdown",
      "metadata": {
        "id": "CSJbXPl46z_d"
      },
      "source": [
        "#### 4) Πίνακας Μεταβολής Επίδοσης\n",
        "\n",
        "Τέλος, παρουσιάζουμε συγκριτικά την επίδοση των default classifier με τους βελτιστοποιημένους. Αυτό θα γίνει τόσο με τις μετρικές απόδοσης όσο και με τους χρόνους εκπαίδευσης και πρόβλεψης. Σημειώνουμε, ότι από τους SVM ταξινομητές επιλέξαμε τον καλύτερο, δηλαδή αυτόν με τον rbf πυρήνα.\n"
      ]
    },
    {
      "cell_type": "code",
      "metadata": {
        "id": "Mzvim9MA6HzO",
        "colab": {
          "base_uri": "https://localhost:8080/"
        },
        "outputId": "96468619-ba5d-40af-ee26-d4ce40b33638"
      },
      "source": [
        "classifiers_opt = [dc_stratified, dc_most_frequent, dc_prior, dc_uniform, dc_constant__1, dc_constant_1, gnb,\\\n",
        "                   knn_opt, mlp_opt, svm_opt]\n",
        "classifiers_opt_names = [\"DC_Stratified\", \"DC_Most_Frequent\", \"DC_Prior\", \"DC_Uniform\", \"DC_Constant_-1\", \"DC_Constant_1\", \"GNB\",\\\n",
        "                         \"KNN_opt\", \"MLP_opt\", \"SVM_opt\"]\n",
        "\n",
        "#printing comparative table for f1 scores\n",
        "print_comparative_evaluation(classifiers, classifiers_names, classifiers_opt, classifiers_opt_names, test_final, test_labels)\n",
        "\n",
        "#printing comparative table for fitting and prediction times\n",
        "print_comparative_times(classifiers_names, fit_times, pred_times, fit_times_opt, pred_times_opt)"
      ],
      "execution_count": null,
      "outputs": [
        {
          "output_type": "stream",
          "text": [
            "+-------------------+----------+--------------+----------+--------------+\n",
            "| Classifier's Name | F1_micro | F1_micro_opt | F1_macro | F1_macro_opt |\n",
            "+-------------------+----------+--------------+----------+--------------+\n",
            "|   DC_Stratified   |  0.600   |    \u001b[31m0.596\u001b[0m     |  0.508   |    \u001b[31m0.503\u001b[0m     |\n",
            "|  DC_Most_Frequent |  0.715   |    \u001b[34m0.715\u001b[0m     |  0.417   |    \u001b[34m0.417\u001b[0m     |\n",
            "|      DC_Prior     |  0.715   |    \u001b[34m0.715\u001b[0m     |  0.417   |    \u001b[34m0.417\u001b[0m     |\n",
            "|     DC_Uniform    |  0.511   |    \u001b[31m0.491\u001b[0m     |  0.485   |    \u001b[31m0.468\u001b[0m     |\n",
            "|   DC_Constant_-1  |  0.285   |    \u001b[34m0.285\u001b[0m     |  0.222   |    \u001b[34m0.222\u001b[0m     |\n",
            "|   DC_Constant_1   |  0.715   |    \u001b[34m0.715\u001b[0m     |  0.417   |    \u001b[34m0.417\u001b[0m     |\n",
            "|        GNB        |  0.837   |    \u001b[34m0.837\u001b[0m     |  0.820   |    \u001b[34m0.820\u001b[0m     |\n",
            "|        kNN        |  0.946   |    \u001b[32m0.947\u001b[0m     |  0.933   |    \u001b[32m0.935\u001b[0m     |\n",
            "|        MLP        |  0.951   |    \u001b[34m0.951\u001b[0m     |  0.940   |    \u001b[34m0.940\u001b[0m     |\n",
            "|        SVM        |  0.949   |    \u001b[31m0.948\u001b[0m     |  0.937   |    \u001b[31m0.936\u001b[0m     |\n",
            "+-------------------+----------+--------------+----------+--------------+\n",
            "+-------------------+-----------------+---------------------------------------+------------------+----------------------------------------+\n",
            "| Classifier's Name | Fit Time (msec) | Fit time of optimal Classifier (msec) | Pred Time (msec) | Pred Time of Optimal Classifier (msec) |\n",
            "+-------------------+-----------------+---------------------------------------+------------------+----------------------------------------+\n",
            "|   DC_Stratified   |       2.27      |                  \u001b[32m1.97\u001b[0m                 |       1.35       |                  \u001b[32m1.30\u001b[0m                  |\n",
            "|  DC_Most_Frequent |       1.37      |                  \u001b[32m1.00\u001b[0m                 |       0.14       |                  \u001b[31m0.15\u001b[0m                  |\n",
            "|      DC_Prior     |       1.15      |                  \u001b[32m1.08\u001b[0m                 |       0.14       |                  \u001b[32m0.10\u001b[0m                  |\n",
            "|     DC_Uniform    |       0.87      |                  \u001b[31m0.97\u001b[0m                 |       0.16       |                  \u001b[34m0.16\u001b[0m                  |\n",
            "|   DC_Constant_-1  |       0.84      |                  \u001b[31m1.11\u001b[0m                 |       0.10       |                  \u001b[32m0.09\u001b[0m                  |\n",
            "|   DC_Constant_1   |       0.84      |                  \u001b[31m0.98\u001b[0m                 |       0.10       |                  \u001b[34m0.10\u001b[0m                  |\n",
            "|        GNB        |      32.55      |                 \u001b[31m37.47\u001b[0m                 |      12.06       |                 \u001b[32m11.40\u001b[0m                  |\n",
            "|        kNN        |      629.69     |                 \u001b[31m706.57\u001b[0m                |     12332.79     |                \u001b[32m2385.13\u001b[0m                 |\n",
            "|        MLP        |     58228.92    |                \u001b[31m85693.40\u001b[0m               |      39.86       |                 \u001b[31m59.23\u001b[0m                  |\n",
            "|        SVM        |     19451.93    |                \u001b[32m2978.03\u001b[0m                |     5858.90      |                 \u001b[32m22.08\u001b[0m                  |\n",
            "+-------------------+-----------------+---------------------------------------+------------------+----------------------------------------+\n"
          ],
          "name": "stdout"
        }
      ]
    },
    {
      "cell_type": "markdown",
      "metadata": {
        "id": "Tguwl4cU62aE"
      },
      "source": [
        "#### 5) Σχολιασμός Αποτελεσμάτων"
      ]
    },
    {
      "cell_type": "markdown",
      "metadata": {
        "id": "VIAe8xqEyX9E"
      },
      "source": [
        "Παρατηρούμε ότι και σε αυτό το dataset καταφέραμε να βελτιώσουμε την επίδοση των ταξινομητών που χρησιμοποιήσαμε και στις $2$ μετρικές $F1$, εκτός από την περίπτωση του SVM, όπου χάνουμε από το default κατά $0.001$. Αξίζει να σημειώσουμε ότι και στους υπόλοιπους ταξινομητές η βελτίωση δεν ήταν πολύ μεγάλη (στον MLP καμία διαφορά και στον kNN $+0.001$). Άλλωστε το ποσοστό που επιτυγχάνουν είναι αρκετά υψηλό και ανταγωνιστικό.\n",
        "\n",
        "Στην περίπτωση του SVM η χειροτέρευση οφείλεται ενδεχομένως, σε κάποιο από τα στάδια του pipelining, αφού είναι και η μοναδική διαφορά από την διαδικασία των default. \n",
        "\n",
        "Παρόλο που υπήρξε αυτή η ελάχιστη χειροτέρευση στον SVM παρατηρήθηκε καλή βελτίωση στους χρόνους fit, predict. Σε άλλες περιπτώσεις, ωστόσο, η βελτίωση στην τιμή των μετρικών είχε επίπτωση στον χρόνο (π.χ. *kNN fit time*, *MLP fit + pred time*).\n",
        "\n",
        "Τονίζουμε πως, επειδή επιλέξαμε να μην χρησιμοποιήσουμε oversampling, οι υπόλοιποι ταξινομητές δεν μεταβάλλουν την επίδοσή τους. \n",
        "\n",
        "Τέλος, συγκριτικά μεταξύ όλων των ταξινομητών, την καλύτερη απόδοση (τόσο σε micro όσο και σε macro  $F1$ ) εξακολουθεί να έχει ο Multi-Layered Perceptron (MLP)."
      ]
    }
  ]
}